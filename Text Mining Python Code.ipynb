{
 "cells": [
  {
   "cell_type": "markdown",
   "id": "33444312",
   "metadata": {},
   "source": [
    "# LIBRARIES "
   ]
  },
  {
   "cell_type": "code",
   "execution_count": 51,
   "id": "4613db14",
   "metadata": {},
   "outputs": [],
   "source": [
    "import pandas as pd\n",
    "import seaborn as sns\n",
    "from matplotlib import pyplot as plt\n",
    "import numpy as np"
   ]
  },
  {
   "cell_type": "code",
   "execution_count": 52,
   "id": "a06f866b",
   "metadata": {},
   "outputs": [],
   "source": [
    "hotel_data = pd.read_csv('tourist_accommodation_reviews.csv', encoding='cp850')"
   ]
  },
  {
   "cell_type": "code",
   "execution_count": 54,
   "id": "949660e8",
   "metadata": {},
   "outputs": [
    {
     "name": "stdout",
     "output_type": "stream",
     "text": [
      "<class 'pandas.core.frame.DataFrame'>\n",
      "RangeIndex: 53644 entries, 0 to 53643\n",
      "Data columns (total 5 columns):\n",
      " #   Column                 Non-Null Count  Dtype \n",
      "---  ------                 --------------  ----- \n",
      " 0   ID                     53644 non-null  object\n",
      " 1   Review Date            53644 non-null  object\n",
      " 2   Location               53644 non-null  object\n",
      " 3   Hotel/Restaurant name  53644 non-null  object\n",
      " 4   Review                 53644 non-null  object\n",
      "dtypes: object(5)\n",
      "memory usage: 2.0+ MB\n"
     ]
    }
   ],
   "source": [
    "hotel_data.info()"
   ]
  },
  {
   "cell_type": "code",
   "execution_count": 55,
   "id": "f913a66b",
   "metadata": {},
   "outputs": [
    {
     "data": {
      "text/html": [
       "<div>\n",
       "<style scoped>\n",
       "    .dataframe tbody tr th:only-of-type {\n",
       "        vertical-align: middle;\n",
       "    }\n",
       "\n",
       "    .dataframe tbody tr th {\n",
       "        vertical-align: top;\n",
       "    }\n",
       "\n",
       "    .dataframe thead th {\n",
       "        text-align: right;\n",
       "    }\n",
       "</style>\n",
       "<table border=\"1\" class=\"dataframe\">\n",
       "  <thead>\n",
       "    <tr style=\"text-align: right;\">\n",
       "      <th></th>\n",
       "      <th>ID</th>\n",
       "      <th>Review Date</th>\n",
       "      <th>Location</th>\n",
       "      <th>Hotel/Restaurant name</th>\n",
       "      <th>Review</th>\n",
       "    </tr>\n",
       "  </thead>\n",
       "  <tbody>\n",
       "    <tr>\n",
       "      <th>0</th>\n",
       "      <td>rn579778340</td>\n",
       "      <td>Reviewed 1 week ago</td>\n",
       "      <td>Kathu</td>\n",
       "      <td>Thong Dee The Kathu Brasserie</td>\n",
       "      <td>Just been for sunday roast lamb and beef truly...</td>\n",
       "    </tr>\n",
       "    <tr>\n",
       "      <th>1</th>\n",
       "      <td>rn576350875</td>\n",
       "      <td>Reviewed 3 weeks ago</td>\n",
       "      <td>Kathu</td>\n",
       "      <td>Thong Dee The Kathu Brasserie</td>\n",
       "      <td>Quietly set off the main road, nice atmosphere...</td>\n",
       "    </tr>\n",
       "    <tr>\n",
       "      <th>2</th>\n",
       "      <td>rn574921678</td>\n",
       "      <td>Reviewed 4 weeks ago</td>\n",
       "      <td>Kathu</td>\n",
       "      <td>Thong Dee The Kathu Brasserie</td>\n",
       "      <td>I made a reservation for a birthday two days i...</td>\n",
       "    </tr>\n",
       "    <tr>\n",
       "      <th>3</th>\n",
       "      <td>rn572905503</td>\n",
       "      <td>Reviewed April 12, 2018</td>\n",
       "      <td>Kathu</td>\n",
       "      <td>Thong Dee The Kathu Brasserie</td>\n",
       "      <td>We visit here regularly and never fail to be i...</td>\n",
       "    </tr>\n",
       "    <tr>\n",
       "      <th>4</th>\n",
       "      <td>rn572364712</td>\n",
       "      <td>Reviewed April 10, 2018</td>\n",
       "      <td>Kathu</td>\n",
       "      <td>Thong Dee The Kathu Brasserie</td>\n",
       "      <td>Visited this wonderful place on my travels and...</td>\n",
       "    </tr>\n",
       "  </tbody>\n",
       "</table>\n",
       "</div>"
      ],
      "text/plain": [
       "            ID               Review Date Location  \\\n",
       "0  rn579778340      Reviewed 1 week ago     Kathu   \n",
       "1  rn576350875     Reviewed 3 weeks ago     Kathu   \n",
       "2  rn574921678     Reviewed 4 weeks ago     Kathu   \n",
       "3  rn572905503  Reviewed April 12, 2018     Kathu   \n",
       "4  rn572364712  Reviewed April 10, 2018     Kathu   \n",
       "\n",
       "           Hotel/Restaurant name  \\\n",
       "0  Thong Dee The Kathu Brasserie   \n",
       "1  Thong Dee The Kathu Brasserie   \n",
       "2  Thong Dee The Kathu Brasserie   \n",
       "3  Thong Dee The Kathu Brasserie   \n",
       "4  Thong Dee The Kathu Brasserie   \n",
       "\n",
       "                                              Review  \n",
       "0  Just been for sunday roast lamb and beef truly...  \n",
       "1  Quietly set off the main road, nice atmosphere...  \n",
       "2  I made a reservation for a birthday two days i...  \n",
       "3  We visit here regularly and never fail to be i...  \n",
       "4  Visited this wonderful place on my travels and...  "
      ]
     },
     "execution_count": 55,
     "metadata": {},
     "output_type": "execute_result"
    }
   ],
   "source": [
    "hotel_data.head()"
   ]
  },
  {
   "cell_type": "code",
   "execution_count": 56,
   "id": "12ae4d79",
   "metadata": {},
   "outputs": [
    {
     "data": {
      "text/html": [
       "<div>\n",
       "<style scoped>\n",
       "    .dataframe tbody tr th:only-of-type {\n",
       "        vertical-align: middle;\n",
       "    }\n",
       "\n",
       "    .dataframe tbody tr th {\n",
       "        vertical-align: top;\n",
       "    }\n",
       "\n",
       "    .dataframe thead th {\n",
       "        text-align: right;\n",
       "    }\n",
       "</style>\n",
       "<table border=\"1\" class=\"dataframe\">\n",
       "  <thead>\n",
       "    <tr style=\"text-align: right;\">\n",
       "      <th></th>\n",
       "      <th>ID</th>\n",
       "      <th>Review Date</th>\n",
       "      <th>Location</th>\n",
       "      <th>Hotel/Restaurant name</th>\n",
       "      <th>Review</th>\n",
       "    </tr>\n",
       "  </thead>\n",
       "  <tbody>\n",
       "    <tr>\n",
       "      <th>0</th>\n",
       "      <td>rn579778340</td>\n",
       "      <td>Reviewed 1 week ago</td>\n",
       "      <td>Kathu</td>\n",
       "      <td>Thong Dee The Kathu Brasserie</td>\n",
       "      <td>Just been for sunday roast lamb and beef truly...</td>\n",
       "    </tr>\n",
       "    <tr>\n",
       "      <th>1</th>\n",
       "      <td>rn576350875</td>\n",
       "      <td>Reviewed 3 weeks ago</td>\n",
       "      <td>Kathu</td>\n",
       "      <td>Thong Dee The Kathu Brasserie</td>\n",
       "      <td>Quietly set off the main road, nice atmosphere...</td>\n",
       "    </tr>\n",
       "    <tr>\n",
       "      <th>2</th>\n",
       "      <td>rn574921678</td>\n",
       "      <td>Reviewed 4 weeks ago</td>\n",
       "      <td>Kathu</td>\n",
       "      <td>Thong Dee The Kathu Brasserie</td>\n",
       "      <td>I made a reservation for a birthday two days i...</td>\n",
       "    </tr>\n",
       "    <tr>\n",
       "      <th>3</th>\n",
       "      <td>rn572905503</td>\n",
       "      <td>Reviewed April 12, 2018</td>\n",
       "      <td>Kathu</td>\n",
       "      <td>Thong Dee The Kathu Brasserie</td>\n",
       "      <td>We visit here regularly and never fail to be i...</td>\n",
       "    </tr>\n",
       "    <tr>\n",
       "      <th>4</th>\n",
       "      <td>rn572364712</td>\n",
       "      <td>Reviewed April 10, 2018</td>\n",
       "      <td>Kathu</td>\n",
       "      <td>Thong Dee The Kathu Brasserie</td>\n",
       "      <td>Visited this wonderful place on my travels and...</td>\n",
       "    </tr>\n",
       "    <tr>\n",
       "      <th>5</th>\n",
       "      <td>rn572308369</td>\n",
       "      <td>Reviewed April 9, 2018</td>\n",
       "      <td>Kathu</td>\n",
       "      <td>Thong Dee The Kathu Brasserie</td>\n",
       "      <td>We travel to Phuket every year from Australia ...</td>\n",
       "    </tr>\n",
       "    <tr>\n",
       "      <th>6</th>\n",
       "      <td>rn572053040</td>\n",
       "      <td>Reviewed April 8, 2018</td>\n",
       "      <td>Kathu</td>\n",
       "      <td>Thong Dee The Kathu Brasserie</td>\n",
       "      <td>Had roast beef and lamb plenty of it and very ...</td>\n",
       "    </tr>\n",
       "    <tr>\n",
       "      <th>7</th>\n",
       "      <td>rn571915434</td>\n",
       "      <td>Reviewed April 8, 2018</td>\n",
       "      <td>Kathu</td>\n",
       "      <td>Thong Dee The Kathu Brasserie</td>\n",
       "      <td>This place has a lot to learn when it comes to...</td>\n",
       "    </tr>\n",
       "    <tr>\n",
       "      <th>8</th>\n",
       "      <td>rn571792182</td>\n",
       "      <td>Reviewed April 7, 2018</td>\n",
       "      <td>Kathu</td>\n",
       "      <td>Thong Dee The Kathu Brasserie</td>\n",
       "      <td>This restaurant oozes class as soon as you ent...</td>\n",
       "    </tr>\n",
       "    <tr>\n",
       "      <th>9</th>\n",
       "      <td>rn571778672</td>\n",
       "      <td>Reviewed April 7, 2018</td>\n",
       "      <td>Kathu</td>\n",
       "      <td>Thong Dee The Kathu Brasserie</td>\n",
       "      <td>Put simply, just one of the best dining experi...</td>\n",
       "    </tr>\n",
       "    <tr>\n",
       "      <th>10</th>\n",
       "      <td>rn568652106</td>\n",
       "      <td>Reviewed March 25, 2018</td>\n",
       "      <td>Kathu</td>\n",
       "      <td>Thong Dee The Kathu Brasserie</td>\n",
       "      <td>Just had a very very delicious dinner here at ...</td>\n",
       "    </tr>\n",
       "    <tr>\n",
       "      <th>11</th>\n",
       "      <td>rn568221554</td>\n",
       "      <td>Reviewed March 23, 2018</td>\n",
       "      <td>Kathu</td>\n",
       "      <td>Thong Dee The Kathu Brasserie</td>\n",
       "      <td>Visited this hidden gem a couple of times and ...</td>\n",
       "    </tr>\n",
       "    <tr>\n",
       "      <th>12</th>\n",
       "      <td>rn568218874</td>\n",
       "      <td>Reviewed March 23, 2018</td>\n",
       "      <td>Kathu</td>\n",
       "      <td>Thong Dee The Kathu Brasserie</td>\n",
       "      <td>A hidden gem in Kathu. Attentive service, crea...</td>\n",
       "    </tr>\n",
       "    <tr>\n",
       "      <th>13</th>\n",
       "      <td>rn567819459</td>\n",
       "      <td>Reviewed March 21, 2018</td>\n",
       "      <td>Kathu</td>\n",
       "      <td>Thong Dee The Kathu Brasserie</td>\n",
       "      <td>The meats were cooked to perfection and showed...</td>\n",
       "    </tr>\n",
       "    <tr>\n",
       "      <th>14</th>\n",
       "      <td>rn566392361</td>\n",
       "      <td>Reviewed March 13, 2018</td>\n",
       "      <td>Kathu</td>\n",
       "      <td>Thong Dee The Kathu Brasserie</td>\n",
       "      <td>Thanks for the wonderful experience . the staf...</td>\n",
       "    </tr>\n",
       "    <tr>\n",
       "      <th>15</th>\n",
       "      <td>rn565552411</td>\n",
       "      <td>Reviewed March 9, 2018</td>\n",
       "      <td>Kathu</td>\n",
       "      <td>Thong Dee The Kathu Brasserie</td>\n",
       "      <td>The food was amazingly perfect, the place and ...</td>\n",
       "    </tr>\n",
       "    <tr>\n",
       "      <th>16</th>\n",
       "      <td>rn565552237</td>\n",
       "      <td>Reviewed March 9, 2018</td>\n",
       "      <td>Kathu</td>\n",
       "      <td>Thong Dee The Kathu Brasserie</td>\n",
       "      <td>I would definitely recommend this restaurant. ...</td>\n",
       "    </tr>\n",
       "    <tr>\n",
       "      <th>17</th>\n",
       "      <td>rn565550046</td>\n",
       "      <td>Reviewed March 9, 2018</td>\n",
       "      <td>Kathu</td>\n",
       "      <td>Thong Dee The Kathu Brasserie</td>\n",
       "      <td>First time in phuket with my wife, and fell in...</td>\n",
       "    </tr>\n",
       "    <tr>\n",
       "      <th>18</th>\n",
       "      <td>rn565473041</td>\n",
       "      <td>Reviewed March 9, 2018</td>\n",
       "      <td>Kathu</td>\n",
       "      <td>Thong Dee The Kathu Brasserie</td>\n",
       "      <td>Nice &amp; amazing place place...... &lt;f0&gt;&lt;U+009F&gt;&lt;...</td>\n",
       "    </tr>\n",
       "    <tr>\n",
       "      <th>19</th>\n",
       "      <td>rn565366822</td>\n",
       "      <td>Reviewed March 8, 2018</td>\n",
       "      <td>Kathu</td>\n",
       "      <td>Thong Dee The Kathu Brasserie</td>\n",
       "      <td>I always make a point of visiting Thong Dee wh...</td>\n",
       "    </tr>\n",
       "    <tr>\n",
       "      <th>20</th>\n",
       "      <td>rn565238047</td>\n",
       "      <td>Reviewed March 8, 2018</td>\n",
       "      <td>Kathu</td>\n",
       "      <td>Thong Dee The Kathu Brasserie</td>\n",
       "      <td>We had a thoroughly enjoyable evening with goo...</td>\n",
       "    </tr>\n",
       "    <tr>\n",
       "      <th>21</th>\n",
       "      <td>rn565181782</td>\n",
       "      <td>Reviewed March 7, 2018</td>\n",
       "      <td>Kathu</td>\n",
       "      <td>Thong Dee The Kathu Brasserie</td>\n",
       "      <td>Last night we passed this restaurant and decid...</td>\n",
       "    </tr>\n",
       "    <tr>\n",
       "      <th>22</th>\n",
       "      <td>rn564902611</td>\n",
       "      <td>Reviewed March 6, 2018</td>\n",
       "      <td>Kathu</td>\n",
       "      <td>Thong Dee The Kathu Brasserie</td>\n",
       "      <td>Had a great time with my mates.\\r\\nThe food wa...</td>\n",
       "    </tr>\n",
       "    <tr>\n",
       "      <th>23</th>\n",
       "      <td>rn564838395</td>\n",
       "      <td>Reviewed March 6, 2018</td>\n",
       "      <td>Kathu</td>\n",
       "      <td>Thong Dee The Kathu Brasserie</td>\n",
       "      <td>The food were delicious especially the Thai cu...</td>\n",
       "    </tr>\n",
       "    <tr>\n",
       "      <th>24</th>\n",
       "      <td>rn564828014</td>\n",
       "      <td>Reviewed March 6, 2018</td>\n",
       "      <td>Kathu</td>\n",
       "      <td>Thong Dee The Kathu Brasserie</td>\n",
       "      <td>Food was good as always and the staff very att...</td>\n",
       "    </tr>\n",
       "  </tbody>\n",
       "</table>\n",
       "</div>"
      ],
      "text/plain": [
       "             ID               Review Date Location  \\\n",
       "0   rn579778340      Reviewed 1 week ago     Kathu   \n",
       "1   rn576350875     Reviewed 3 weeks ago     Kathu   \n",
       "2   rn574921678     Reviewed 4 weeks ago     Kathu   \n",
       "3   rn572905503  Reviewed April 12, 2018     Kathu   \n",
       "4   rn572364712  Reviewed April 10, 2018     Kathu   \n",
       "5   rn572308369   Reviewed April 9, 2018     Kathu   \n",
       "6   rn572053040   Reviewed April 8, 2018     Kathu   \n",
       "7   rn571915434   Reviewed April 8, 2018     Kathu   \n",
       "8   rn571792182   Reviewed April 7, 2018     Kathu   \n",
       "9   rn571778672   Reviewed April 7, 2018     Kathu   \n",
       "10  rn568652106  Reviewed March 25, 2018     Kathu   \n",
       "11  rn568221554  Reviewed March 23, 2018     Kathu   \n",
       "12  rn568218874  Reviewed March 23, 2018     Kathu   \n",
       "13  rn567819459  Reviewed March 21, 2018     Kathu   \n",
       "14  rn566392361  Reviewed March 13, 2018     Kathu   \n",
       "15  rn565552411   Reviewed March 9, 2018     Kathu   \n",
       "16  rn565552237   Reviewed March 9, 2018     Kathu   \n",
       "17  rn565550046   Reviewed March 9, 2018     Kathu   \n",
       "18  rn565473041   Reviewed March 9, 2018     Kathu   \n",
       "19  rn565366822   Reviewed March 8, 2018     Kathu   \n",
       "20  rn565238047   Reviewed March 8, 2018     Kathu   \n",
       "21  rn565181782   Reviewed March 7, 2018     Kathu   \n",
       "22  rn564902611   Reviewed March 6, 2018     Kathu   \n",
       "23  rn564838395   Reviewed March 6, 2018     Kathu   \n",
       "24  rn564828014   Reviewed March 6, 2018     Kathu   \n",
       "\n",
       "            Hotel/Restaurant name  \\\n",
       "0   Thong Dee The Kathu Brasserie   \n",
       "1   Thong Dee The Kathu Brasserie   \n",
       "2   Thong Dee The Kathu Brasserie   \n",
       "3   Thong Dee The Kathu Brasserie   \n",
       "4   Thong Dee The Kathu Brasserie   \n",
       "5   Thong Dee The Kathu Brasserie   \n",
       "6   Thong Dee The Kathu Brasserie   \n",
       "7   Thong Dee The Kathu Brasserie   \n",
       "8   Thong Dee The Kathu Brasserie   \n",
       "9   Thong Dee The Kathu Brasserie   \n",
       "10  Thong Dee The Kathu Brasserie   \n",
       "11  Thong Dee The Kathu Brasserie   \n",
       "12  Thong Dee The Kathu Brasserie   \n",
       "13  Thong Dee The Kathu Brasserie   \n",
       "14  Thong Dee The Kathu Brasserie   \n",
       "15  Thong Dee The Kathu Brasserie   \n",
       "16  Thong Dee The Kathu Brasserie   \n",
       "17  Thong Dee The Kathu Brasserie   \n",
       "18  Thong Dee The Kathu Brasserie   \n",
       "19  Thong Dee The Kathu Brasserie   \n",
       "20  Thong Dee The Kathu Brasserie   \n",
       "21  Thong Dee The Kathu Brasserie   \n",
       "22  Thong Dee The Kathu Brasserie   \n",
       "23  Thong Dee The Kathu Brasserie   \n",
       "24  Thong Dee The Kathu Brasserie   \n",
       "\n",
       "                                               Review  \n",
       "0   Just been for sunday roast lamb and beef truly...  \n",
       "1   Quietly set off the main road, nice atmosphere...  \n",
       "2   I made a reservation for a birthday two days i...  \n",
       "3   We visit here regularly and never fail to be i...  \n",
       "4   Visited this wonderful place on my travels and...  \n",
       "5   We travel to Phuket every year from Australia ...  \n",
       "6   Had roast beef and lamb plenty of it and very ...  \n",
       "7   This place has a lot to learn when it comes to...  \n",
       "8   This restaurant oozes class as soon as you ent...  \n",
       "9   Put simply, just one of the best dining experi...  \n",
       "10  Just had a very very delicious dinner here at ...  \n",
       "11  Visited this hidden gem a couple of times and ...  \n",
       "12  A hidden gem in Kathu. Attentive service, crea...  \n",
       "13  The meats were cooked to perfection and showed...  \n",
       "14  Thanks for the wonderful experience . the staf...  \n",
       "15  The food was amazingly perfect, the place and ...  \n",
       "16  I would definitely recommend this restaurant. ...  \n",
       "17  First time in phuket with my wife, and fell in...  \n",
       "18  Nice & amazing place place...... <f0><U+009F><...  \n",
       "19  I always make a point of visiting Thong Dee wh...  \n",
       "20  We had a thoroughly enjoyable evening with goo...  \n",
       "21  Last night we passed this restaurant and decid...  \n",
       "22  Had a great time with my mates.\\r\\nThe food wa...  \n",
       "23  The food were delicious especially the Thai cu...  \n",
       "24  Food was good as always and the staff very att...  "
      ]
     },
     "execution_count": 56,
     "metadata": {},
     "output_type": "execute_result"
    }
   ],
   "source": [
    "hotel_data.head(25)"
   ]
  },
  {
   "cell_type": "code",
   "execution_count": 57,
   "id": "9877d80b",
   "metadata": {},
   "outputs": [
    {
     "data": {
      "text/html": [
       "<div>\n",
       "<style scoped>\n",
       "    .dataframe tbody tr th:only-of-type {\n",
       "        vertical-align: middle;\n",
       "    }\n",
       "\n",
       "    .dataframe tbody tr th {\n",
       "        vertical-align: top;\n",
       "    }\n",
       "\n",
       "    .dataframe thead th {\n",
       "        text-align: right;\n",
       "    }\n",
       "</style>\n",
       "<table border=\"1\" class=\"dataframe\">\n",
       "  <thead>\n",
       "    <tr style=\"text-align: right;\">\n",
       "      <th></th>\n",
       "      <th>ID</th>\n",
       "      <th>Review Date</th>\n",
       "      <th>Location</th>\n",
       "      <th>Hotel/Restaurant name</th>\n",
       "      <th>Review</th>\n",
       "    </tr>\n",
       "  </thead>\n",
       "  <tbody>\n",
       "    <tr>\n",
       "      <th>53639</th>\n",
       "      <td>rn162368197</td>\n",
       "      <td>Reviewed May 29, 2013</td>\n",
       "      <td>Patong</td>\n",
       "      <td>Bite in</td>\n",
       "      <td>I love this small restaurant, for the great fo...</td>\n",
       "    </tr>\n",
       "    <tr>\n",
       "      <th>53640</th>\n",
       "      <td>rn161843734</td>\n",
       "      <td>Reviewed May 25, 2013</td>\n",
       "      <td>Patong</td>\n",
       "      <td>Bite in</td>\n",
       "      <td>We stopped at this restaurant after shopping a...</td>\n",
       "    </tr>\n",
       "    <tr>\n",
       "      <th>53641</th>\n",
       "      <td>rn161734077</td>\n",
       "      <td>Reviewed May 24, 2013</td>\n",
       "      <td>Patong</td>\n",
       "      <td>Bite in</td>\n",
       "      <td>Great times ,This is one of the best restauran...</td>\n",
       "    </tr>\n",
       "    <tr>\n",
       "      <th>53642</th>\n",
       "      <td>rn161218072</td>\n",
       "      <td>Reviewed May 19, 2013</td>\n",
       "      <td>Patong</td>\n",
       "      <td>Bite in</td>\n",
       "      <td>Bite in, it has become my favorite restaurant ...</td>\n",
       "    </tr>\n",
       "    <tr>\n",
       "      <th>53643</th>\n",
       "      <td>rn161212765</td>\n",
       "      <td>Reviewed May 19, 2013</td>\n",
       "      <td>Patong</td>\n",
       "      <td>Bite in</td>\n",
       "      <td>The restaurant put in a good location in Jungc...</td>\n",
       "    </tr>\n",
       "  </tbody>\n",
       "</table>\n",
       "</div>"
      ],
      "text/plain": [
       "                ID             Review Date Location Hotel/Restaurant name  \\\n",
       "53639  rn162368197  Reviewed May 29, 2013    Patong               Bite in   \n",
       "53640  rn161843734  Reviewed May 25, 2013    Patong               Bite in   \n",
       "53641  rn161734077  Reviewed May 24, 2013    Patong               Bite in   \n",
       "53642  rn161218072  Reviewed May 19, 2013    Patong               Bite in   \n",
       "53643  rn161212765  Reviewed May 19, 2013    Patong               Bite in   \n",
       "\n",
       "                                                  Review  \n",
       "53639  I love this small restaurant, for the great fo...  \n",
       "53640  We stopped at this restaurant after shopping a...  \n",
       "53641  Great times ,This is one of the best restauran...  \n",
       "53642  Bite in, it has become my favorite restaurant ...  \n",
       "53643  The restaurant put in a good location in Jungc...  "
      ]
     },
     "execution_count": 57,
     "metadata": {},
     "output_type": "execute_result"
    }
   ],
   "source": [
    "hotel_data.tail()"
   ]
  },
  {
   "cell_type": "markdown",
   "id": "27698a00",
   "metadata": {},
   "source": [
    "# VIEW ALL LOCATIONS IN THE DATA SET "
   ]
  },
  {
   "cell_type": "code",
   "execution_count": 58,
   "id": "42135d0d",
   "metadata": {},
   "outputs": [
    {
     "data": {
      "text/plain": [
       "Index([' Patong', ' Karon', ' Kata Beach', ' Rawai', ' Choeng Thale',\n",
       "       ' Phuket Town', ' Kamala', ' Mai Khao', ' Cape Panwa', ' Chalong',\n",
       "       ' Thalang District', ' Kathu', ' Nai Yang', ' Nai Harn',\n",
       "       ' Bang Tao Beach', ' Karon Beach', ' Wichit', ' Talat Yai', ' Koh Kaew',\n",
       "       ' Kata Noi Beach', ' Pa Khlok', ' Ratsada', ' Talat Nuea', ' Nai Thon',\n",
       "       ' Sakhu'],\n",
       "      dtype='object')"
      ]
     },
     "execution_count": 58,
     "metadata": {},
     "output_type": "execute_result"
    }
   ],
   "source": [
    "hotel_data.Location.value_counts().index"
   ]
  },
  {
   "cell_type": "code",
   "execution_count": 59,
   "id": "ac675e81",
   "metadata": {},
   "outputs": [
    {
     "data": {
      "text/plain": [
       " Patong              16403\n",
       " Karon                5826\n",
       " Kata Beach           5752\n",
       " Rawai                3811\n",
       " Choeng Thale         3378\n",
       " Phuket Town          3356\n",
       " Kamala               3162\n",
       " Mai Khao             2372\n",
       " Cape Panwa           1500\n",
       " Chalong              1287\n",
       " Thalang District     1177\n",
       " Kathu                1078\n",
       " Nai Yang              996\n",
       " Nai Harn              881\n",
       " Bang Tao Beach        600\n",
       " Karon Beach           397\n",
       " Wichit                395\n",
       " Talat Yai             300\n",
       " Koh Kaew              293\n",
       " Kata Noi Beach        200\n",
       " Pa Khlok              100\n",
       " Ratsada                98\n",
       " Talat Nuea             97\n",
       " Nai Thon               94\n",
       " Sakhu                  91\n",
       "Name: Location, dtype: int64"
      ]
     },
     "execution_count": 59,
     "metadata": {},
     "output_type": "execute_result"
    }
   ],
   "source": [
    "hotel_data.Location.value_counts()"
   ]
  },
  {
   "cell_type": "markdown",
   "id": "ecb46f15",
   "metadata": {},
   "source": [
    "# Total number of Unique Locations in the dataset "
   ]
  },
  {
   "cell_type": "code",
   "execution_count": 60,
   "id": "6319c9a9",
   "metadata": {},
   "outputs": [
    {
     "data": {
      "text/plain": [
       "25"
      ]
     },
     "execution_count": 60,
     "metadata": {},
     "output_type": "execute_result"
    }
   ],
   "source": [
    "len(hotel_data['Location'].unique())"
   ]
  },
  {
   "cell_type": "markdown",
   "id": "efe9f630",
   "metadata": {},
   "source": [
    "# Total Number of Unique Hotel Names"
   ]
  },
  {
   "cell_type": "code",
   "execution_count": 61,
   "id": "34c0bf9a",
   "metadata": {},
   "outputs": [
    {
     "data": {
      "text/plain": [
       "537"
      ]
     },
     "execution_count": 61,
     "metadata": {},
     "output_type": "execute_result"
    }
   ],
   "source": [
    "len(hotel_data['Hotel/Restaurant name'].unique())"
   ]
  },
  {
   "cell_type": "markdown",
   "id": "7b3963fa",
   "metadata": {},
   "source": [
    "# Select Preferred Locations And Hotels"
   ]
  },
  {
   "cell_type": "code",
   "execution_count": 62,
   "id": "0c570826",
   "metadata": {},
   "outputs": [],
   "source": [
    "preferred_location = [' Rawai', ' Kathu']"
   ]
  },
  {
   "cell_type": "markdown",
   "id": "0692a04d",
   "metadata": {},
   "source": [
    "Get hotels in the preferred location "
   ]
  },
  {
   "cell_type": "code",
   "execution_count": 63,
   "id": "7cdd3df3",
   "metadata": {},
   "outputs": [
    {
     "data": {
      "text/html": [
       "<div>\n",
       "<style scoped>\n",
       "    .dataframe tbody tr th:only-of-type {\n",
       "        vertical-align: middle;\n",
       "    }\n",
       "\n",
       "    .dataframe tbody tr th {\n",
       "        vertical-align: top;\n",
       "    }\n",
       "\n",
       "    .dataframe thead th {\n",
       "        text-align: right;\n",
       "    }\n",
       "</style>\n",
       "<table border=\"1\" class=\"dataframe\">\n",
       "  <thead>\n",
       "    <tr style=\"text-align: right;\">\n",
       "      <th></th>\n",
       "      <th>ID</th>\n",
       "      <th>Review Date</th>\n",
       "      <th>Location</th>\n",
       "      <th>Hotel/Restaurant name</th>\n",
       "      <th>Review</th>\n",
       "    </tr>\n",
       "  </thead>\n",
       "  <tbody>\n",
       "    <tr>\n",
       "      <th>0</th>\n",
       "      <td>rn579778340</td>\n",
       "      <td>Reviewed 1 week ago</td>\n",
       "      <td>Kathu</td>\n",
       "      <td>Thong Dee The Kathu Brasserie</td>\n",
       "      <td>Just been for sunday roast lamb and beef truly...</td>\n",
       "    </tr>\n",
       "    <tr>\n",
       "      <th>1</th>\n",
       "      <td>rn576350875</td>\n",
       "      <td>Reviewed 3 weeks ago</td>\n",
       "      <td>Kathu</td>\n",
       "      <td>Thong Dee The Kathu Brasserie</td>\n",
       "      <td>Quietly set off the main road, nice atmosphere...</td>\n",
       "    </tr>\n",
       "    <tr>\n",
       "      <th>2</th>\n",
       "      <td>rn574921678</td>\n",
       "      <td>Reviewed 4 weeks ago</td>\n",
       "      <td>Kathu</td>\n",
       "      <td>Thong Dee The Kathu Brasserie</td>\n",
       "      <td>I made a reservation for a birthday two days i...</td>\n",
       "    </tr>\n",
       "    <tr>\n",
       "      <th>3</th>\n",
       "      <td>rn572905503</td>\n",
       "      <td>Reviewed April 12, 2018</td>\n",
       "      <td>Kathu</td>\n",
       "      <td>Thong Dee The Kathu Brasserie</td>\n",
       "      <td>We visit here regularly and never fail to be i...</td>\n",
       "    </tr>\n",
       "    <tr>\n",
       "      <th>4</th>\n",
       "      <td>rn572364712</td>\n",
       "      <td>Reviewed April 10, 2018</td>\n",
       "      <td>Kathu</td>\n",
       "      <td>Thong Dee The Kathu Brasserie</td>\n",
       "      <td>Visited this wonderful place on my travels and...</td>\n",
       "    </tr>\n",
       "    <tr>\n",
       "      <th>...</th>\n",
       "      <td>...</td>\n",
       "      <td>...</td>\n",
       "      <td>...</td>\n",
       "      <td>...</td>\n",
       "      <td>...</td>\n",
       "    </tr>\n",
       "    <tr>\n",
       "      <th>52853</th>\n",
       "      <td>rn329763892</td>\n",
       "      <td>Reviewed November 29, 2015</td>\n",
       "      <td>Kathu</td>\n",
       "      <td>Thai Express - Turtle Village</td>\n",
       "      <td>Pros :\\r\\n- Decent food.\\r\\n- Reasonable prici...</td>\n",
       "    </tr>\n",
       "    <tr>\n",
       "      <th>52854</th>\n",
       "      <td>rn326404826</td>\n",
       "      <td>Reviewed November 12, 2015</td>\n",
       "      <td>Kathu</td>\n",
       "      <td>Thai Express - Turtle Village</td>\n",
       "      <td>The food is truly stellar, with a high quality...</td>\n",
       "    </tr>\n",
       "    <tr>\n",
       "      <th>52855</th>\n",
       "      <td>rn326381321</td>\n",
       "      <td>Reviewed November 12, 2015</td>\n",
       "      <td>Kathu</td>\n",
       "      <td>Thai Express - Turtle Village</td>\n",
       "      <td>The food is average, and the price average. Th...</td>\n",
       "    </tr>\n",
       "    <tr>\n",
       "      <th>52856</th>\n",
       "      <td>rn318989359</td>\n",
       "      <td>Reviewed October 15, 2015</td>\n",
       "      <td>Kathu</td>\n",
       "      <td>Thai Express - Turtle Village</td>\n",
       "      <td>Good Thai food for tourist who don't want the ...</td>\n",
       "    </tr>\n",
       "    <tr>\n",
       "      <th>52857</th>\n",
       "      <td>rn315343978</td>\n",
       "      <td>Reviewed October 1, 2015</td>\n",
       "      <td>Kathu</td>\n",
       "      <td>Thai Express - Turtle Village</td>\n",
       "      <td>The food is pretty average and the price is ab...</td>\n",
       "    </tr>\n",
       "  </tbody>\n",
       "</table>\n",
       "<p>4889 rows × 5 columns</p>\n",
       "</div>"
      ],
      "text/plain": [
       "                ID                  Review Date Location  \\\n",
       "0      rn579778340         Reviewed 1 week ago     Kathu   \n",
       "1      rn576350875        Reviewed 3 weeks ago     Kathu   \n",
       "2      rn574921678        Reviewed 4 weeks ago     Kathu   \n",
       "3      rn572905503     Reviewed April 12, 2018     Kathu   \n",
       "4      rn572364712     Reviewed April 10, 2018     Kathu   \n",
       "...            ...                          ...      ...   \n",
       "52853  rn329763892  Reviewed November 29, 2015     Kathu   \n",
       "52854  rn326404826  Reviewed November 12, 2015     Kathu   \n",
       "52855  rn326381321  Reviewed November 12, 2015     Kathu   \n",
       "52856  rn318989359   Reviewed October 15, 2015     Kathu   \n",
       "52857  rn315343978    Reviewed October 1, 2015     Kathu   \n",
       "\n",
       "               Hotel/Restaurant name  \\\n",
       "0      Thong Dee The Kathu Brasserie   \n",
       "1      Thong Dee The Kathu Brasserie   \n",
       "2      Thong Dee The Kathu Brasserie   \n",
       "3      Thong Dee The Kathu Brasserie   \n",
       "4      Thong Dee The Kathu Brasserie   \n",
       "...                              ...   \n",
       "52853  Thai Express - Turtle Village   \n",
       "52854  Thai Express - Turtle Village   \n",
       "52855  Thai Express - Turtle Village   \n",
       "52856  Thai Express - Turtle Village   \n",
       "52857  Thai Express - Turtle Village   \n",
       "\n",
       "                                                  Review  \n",
       "0      Just been for sunday roast lamb and beef truly...  \n",
       "1      Quietly set off the main road, nice atmosphere...  \n",
       "2      I made a reservation for a birthday two days i...  \n",
       "3      We visit here regularly and never fail to be i...  \n",
       "4      Visited this wonderful place on my travels and...  \n",
       "...                                                  ...  \n",
       "52853  Pros :\\r\\n- Decent food.\\r\\n- Reasonable prici...  \n",
       "52854  The food is truly stellar, with a high quality...  \n",
       "52855  The food is average, and the price average. Th...  \n",
       "52856  Good Thai food for tourist who don't want the ...  \n",
       "52857  The food is pretty average and the price is ab...  \n",
       "\n",
       "[4889 rows x 5 columns]"
      ]
     },
     "execution_count": 63,
     "metadata": {},
     "output_type": "execute_result"
    }
   ],
   "source": [
    "hotel_data[hotel_data.Location.isin(preferred_location)]"
   ]
  },
  {
   "cell_type": "code",
   "execution_count": 64,
   "id": "de7fa9c3",
   "metadata": {},
   "outputs": [],
   "source": [
    "preferred_location_hotels = hotel_data[hotel_data.Location.isin(preferred_location)]"
   ]
  },
  {
   "cell_type": "markdown",
   "id": "7bcfb43a",
   "metadata": {},
   "source": [
    "# Check the number of hotels in the preferred location "
   ]
  },
  {
   "cell_type": "code",
   "execution_count": 65,
   "id": "417aa088",
   "metadata": {},
   "outputs": [
    {
     "data": {
      "text/plain": [
       "50"
      ]
     },
     "execution_count": 65,
     "metadata": {},
     "output_type": "execute_result"
    }
   ],
   "source": [
    "len(preferred_location_hotels['Hotel/Restaurant name'].unique())"
   ]
  },
  {
   "cell_type": "markdown",
   "id": "59d78618",
   "metadata": {},
   "source": [
    "# Pick 30 HOTELS In SEQUENCE"
   ]
  },
  {
   "cell_type": "code",
   "execution_count": 66,
   "id": "5151ad5c",
   "metadata": {},
   "outputs": [
    {
     "data": {
      "text/plain": [
       "array(['Restaurant Royale Nam Tok', 'A Spoonful of Sugar',\n",
       "       'The Breakfast Hut', 'Le Celtique', \"Rawai View Cafe' & Bar\",\n",
       "       'Moo Restaurant', 'Sala Mexicali', 'The Bua Restaurant',\n",
       "       'The Oceanfront Restaurant and Bar at Kata Rocks',\n",
       "       'Il Tagliere da Massimo', 'Restaurant Treffpunkt', 'Rum Jungle',\n",
       "       'Delish Cafe', 'Mando Restaurant & Steakhouse', 'Atsumi Raw Cafe',\n",
       "       'Mookdee Seafood', 'COCONUT Bar & Restaurant - Rawai Beach',\n",
       "       'Mamasita Mexican', 'Nikitas Beach Restaurant', 'Enjoy Restaurant',\n",
       "       'Hooters Phuket', 'Red Chopsticks At Patong',\n",
       "       'Lucky 13 Sandwich Rawai', \"Norbu's Steakhouse\", 'Cafe Java',\n",
       "       'Bon Island Restaurant', 'Khun Pha', 'Baan Kalim', 'Flip Side',\n",
       "       'Divino Tapas Restaurant'], dtype=object)"
      ]
     },
     "execution_count": 66,
     "metadata": {},
     "output_type": "execute_result"
    }
   ],
   "source": [
    "preferred_location_hotels['Hotel/Restaurant name'].unique()[10:40]"
   ]
  },
  {
   "cell_type": "code",
   "execution_count": 67,
   "id": "1969ca26",
   "metadata": {},
   "outputs": [
    {
     "data": {
      "text/plain": [
       "30"
      ]
     },
     "execution_count": 67,
     "metadata": {},
     "output_type": "execute_result"
    }
   ],
   "source": [
    "len(preferred_location_hotels['Hotel/Restaurant name'].unique()[10:40])"
   ]
  },
  {
   "cell_type": "code",
   "execution_count": 68,
   "id": "028250a1",
   "metadata": {},
   "outputs": [],
   "source": [
    "sequence_hotel = preferred_location_hotels['Hotel/Restaurant name'].unique()[10:40]"
   ]
  },
  {
   "cell_type": "code",
   "execution_count": 69,
   "id": "5a911244",
   "metadata": {},
   "outputs": [],
   "source": [
    "preferred_30_hotels = hotel_data[hotel_data['Hotel/Restaurant name'].isin(sequence_hotel)]"
   ]
  },
  {
   "cell_type": "code",
   "execution_count": 70,
   "id": "1aba8a66",
   "metadata": {},
   "outputs": [
    {
     "data": {
      "text/html": [
       "<div>\n",
       "<style scoped>\n",
       "    .dataframe tbody tr th:only-of-type {\n",
       "        vertical-align: middle;\n",
       "    }\n",
       "\n",
       "    .dataframe tbody tr th {\n",
       "        vertical-align: top;\n",
       "    }\n",
       "\n",
       "    .dataframe thead th {\n",
       "        text-align: right;\n",
       "    }\n",
       "</style>\n",
       "<table border=\"1\" class=\"dataframe\">\n",
       "  <thead>\n",
       "    <tr style=\"text-align: right;\">\n",
       "      <th></th>\n",
       "      <th>ID</th>\n",
       "      <th>Review Date</th>\n",
       "      <th>Location</th>\n",
       "      <th>Hotel/Restaurant name</th>\n",
       "      <th>Review</th>\n",
       "    </tr>\n",
       "  </thead>\n",
       "  <tbody>\n",
       "    <tr>\n",
       "      <th>8425</th>\n",
       "      <td>rn570750447</td>\n",
       "      <td>Reviewed April 3, 2018</td>\n",
       "      <td>Kathu</td>\n",
       "      <td>Restaurant Royale Nam Tok</td>\n",
       "      <td>We were astonished to have found this little g...</td>\n",
       "    </tr>\n",
       "    <tr>\n",
       "      <th>8426</th>\n",
       "      <td>rn564529149</td>\n",
       "      <td>Reviewed March 4, 2018</td>\n",
       "      <td>Kathu</td>\n",
       "      <td>Restaurant Royale Nam Tok</td>\n",
       "      <td>Please no0te that this restaurant doesnt take ...</td>\n",
       "    </tr>\n",
       "    <tr>\n",
       "      <th>8427</th>\n",
       "      <td>rn551379463</td>\n",
       "      <td>Reviewed January 3, 2018</td>\n",
       "      <td>Kathu</td>\n",
       "      <td>Restaurant Royale Nam Tok</td>\n",
       "      <td>Had the perfect dinner in regal surroundings l...</td>\n",
       "    </tr>\n",
       "    <tr>\n",
       "      <th>8428</th>\n",
       "      <td>rn514076003</td>\n",
       "      <td>Reviewed August 16, 2017</td>\n",
       "      <td>Kathu</td>\n",
       "      <td>Restaurant Royale Nam Tok</td>\n",
       "      <td>This restaurant is a hidden gem. Its takes a l...</td>\n",
       "    </tr>\n",
       "    <tr>\n",
       "      <th>8429</th>\n",
       "      <td>rn470181181</td>\n",
       "      <td>Reviewed March 25, 2017</td>\n",
       "      <td>Kathu</td>\n",
       "      <td>Restaurant Royale Nam Tok</td>\n",
       "      <td>AAA+++ Bond Rating!! I have business interests...</td>\n",
       "    </tr>\n",
       "    <tr>\n",
       "      <th>...</th>\n",
       "      <td>...</td>\n",
       "      <td>...</td>\n",
       "      <td>...</td>\n",
       "      <td>...</td>\n",
       "      <td>...</td>\n",
       "    </tr>\n",
       "    <tr>\n",
       "      <th>43110</th>\n",
       "      <td>rn548626399</td>\n",
       "      <td>Reviewed December 22, 2017</td>\n",
       "      <td>Rawai</td>\n",
       "      <td>Divino Tapas Restaurant</td>\n",
       "      <td>We only ordered off the Thai menu and with fus...</td>\n",
       "    </tr>\n",
       "    <tr>\n",
       "      <th>43111</th>\n",
       "      <td>rn545657769</td>\n",
       "      <td>Reviewed December 6, 2017</td>\n",
       "      <td>Rawai</td>\n",
       "      <td>Divino Tapas Restaurant</td>\n",
       "      <td>Divino is one of our favorite places in Phuket...</td>\n",
       "    </tr>\n",
       "    <tr>\n",
       "      <th>43112</th>\n",
       "      <td>rn542340593</td>\n",
       "      <td>Reviewed November 20, 2017</td>\n",
       "      <td>Rawai</td>\n",
       "      <td>Divino Tapas Restaurant</td>\n",
       "      <td>Meet Robert during our dinner at his other bra...</td>\n",
       "    </tr>\n",
       "    <tr>\n",
       "      <th>43113</th>\n",
       "      <td>rn540802906</td>\n",
       "      <td>Reviewed November 13, 2017</td>\n",
       "      <td>Rawai</td>\n",
       "      <td>Divino Tapas Restaurant</td>\n",
       "      <td>My husband and I arrived in late at night and ...</td>\n",
       "    </tr>\n",
       "    <tr>\n",
       "      <th>43114</th>\n",
       "      <td>rn528444815</td>\n",
       "      <td>Reviewed September 30, 2017</td>\n",
       "      <td>Rawai</td>\n",
       "      <td>Divino Tapas Restaurant</td>\n",
       "      <td>We were the only table in the restaurant but d...</td>\n",
       "    </tr>\n",
       "  </tbody>\n",
       "</table>\n",
       "<p>2930 rows × 5 columns</p>\n",
       "</div>"
      ],
      "text/plain": [
       "                ID                   Review Date Location  \\\n",
       "8425   rn570750447       Reviewed April 3, 2018     Kathu   \n",
       "8426   rn564529149       Reviewed March 4, 2018     Kathu   \n",
       "8427   rn551379463     Reviewed January 3, 2018     Kathu   \n",
       "8428   rn514076003     Reviewed August 16, 2017     Kathu   \n",
       "8429   rn470181181      Reviewed March 25, 2017     Kathu   \n",
       "...            ...                           ...      ...   \n",
       "43110  rn548626399   Reviewed December 22, 2017     Rawai   \n",
       "43111  rn545657769    Reviewed December 6, 2017     Rawai   \n",
       "43112  rn542340593   Reviewed November 20, 2017     Rawai   \n",
       "43113  rn540802906   Reviewed November 13, 2017     Rawai   \n",
       "43114  rn528444815  Reviewed September 30, 2017     Rawai   \n",
       "\n",
       "           Hotel/Restaurant name  \\\n",
       "8425   Restaurant Royale Nam Tok   \n",
       "8426   Restaurant Royale Nam Tok   \n",
       "8427   Restaurant Royale Nam Tok   \n",
       "8428   Restaurant Royale Nam Tok   \n",
       "8429   Restaurant Royale Nam Tok   \n",
       "...                          ...   \n",
       "43110    Divino Tapas Restaurant   \n",
       "43111    Divino Tapas Restaurant   \n",
       "43112    Divino Tapas Restaurant   \n",
       "43113    Divino Tapas Restaurant   \n",
       "43114    Divino Tapas Restaurant   \n",
       "\n",
       "                                                  Review  \n",
       "8425   We were astonished to have found this little g...  \n",
       "8426   Please no0te that this restaurant doesnt take ...  \n",
       "8427   Had the perfect dinner in regal surroundings l...  \n",
       "8428   This restaurant is a hidden gem. Its takes a l...  \n",
       "8429   AAA+++ Bond Rating!! I have business interests...  \n",
       "...                                                  ...  \n",
       "43110  We only ordered off the Thai menu and with fus...  \n",
       "43111  Divino is one of our favorite places in Phuket...  \n",
       "43112  Meet Robert during our dinner at his other bra...  \n",
       "43113  My husband and I arrived in late at night and ...  \n",
       "43114  We were the only table in the restaurant but d...  \n",
       "\n",
       "[2930 rows x 5 columns]"
      ]
     },
     "execution_count": 70,
     "metadata": {},
     "output_type": "execute_result"
    }
   ],
   "source": [
    "preferred_30_hotels"
   ]
  },
  {
   "cell_type": "code",
   "execution_count": 71,
   "id": "4636d3fd",
   "metadata": {},
   "outputs": [],
   "source": [
    "preferred_30_hotels = preferred_30_hotels.reset_index(drop=True)"
   ]
  },
  {
   "cell_type": "code",
   "execution_count": 72,
   "id": "f42c6282",
   "metadata": {},
   "outputs": [
    {
     "data": {
      "text/html": [
       "<div>\n",
       "<style scoped>\n",
       "    .dataframe tbody tr th:only-of-type {\n",
       "        vertical-align: middle;\n",
       "    }\n",
       "\n",
       "    .dataframe tbody tr th {\n",
       "        vertical-align: top;\n",
       "    }\n",
       "\n",
       "    .dataframe thead th {\n",
       "        text-align: right;\n",
       "    }\n",
       "</style>\n",
       "<table border=\"1\" class=\"dataframe\">\n",
       "  <thead>\n",
       "    <tr style=\"text-align: right;\">\n",
       "      <th></th>\n",
       "      <th>ID</th>\n",
       "      <th>Review Date</th>\n",
       "      <th>Location</th>\n",
       "      <th>Hotel/Restaurant name</th>\n",
       "      <th>Review</th>\n",
       "    </tr>\n",
       "  </thead>\n",
       "  <tbody>\n",
       "    <tr>\n",
       "      <th>0</th>\n",
       "      <td>rn570750447</td>\n",
       "      <td>Reviewed April 3, 2018</td>\n",
       "      <td>Kathu</td>\n",
       "      <td>Restaurant Royale Nam Tok</td>\n",
       "      <td>We were astonished to have found this little g...</td>\n",
       "    </tr>\n",
       "    <tr>\n",
       "      <th>1</th>\n",
       "      <td>rn564529149</td>\n",
       "      <td>Reviewed March 4, 2018</td>\n",
       "      <td>Kathu</td>\n",
       "      <td>Restaurant Royale Nam Tok</td>\n",
       "      <td>Please no0te that this restaurant doesnt take ...</td>\n",
       "    </tr>\n",
       "    <tr>\n",
       "      <th>2</th>\n",
       "      <td>rn551379463</td>\n",
       "      <td>Reviewed January 3, 2018</td>\n",
       "      <td>Kathu</td>\n",
       "      <td>Restaurant Royale Nam Tok</td>\n",
       "      <td>Had the perfect dinner in regal surroundings l...</td>\n",
       "    </tr>\n",
       "    <tr>\n",
       "      <th>3</th>\n",
       "      <td>rn514076003</td>\n",
       "      <td>Reviewed August 16, 2017</td>\n",
       "      <td>Kathu</td>\n",
       "      <td>Restaurant Royale Nam Tok</td>\n",
       "      <td>This restaurant is a hidden gem. Its takes a l...</td>\n",
       "    </tr>\n",
       "    <tr>\n",
       "      <th>4</th>\n",
       "      <td>rn470181181</td>\n",
       "      <td>Reviewed March 25, 2017</td>\n",
       "      <td>Kathu</td>\n",
       "      <td>Restaurant Royale Nam Tok</td>\n",
       "      <td>AAA+++ Bond Rating!! I have business interests...</td>\n",
       "    </tr>\n",
       "  </tbody>\n",
       "</table>\n",
       "</div>"
      ],
      "text/plain": [
       "            ID                Review Date Location      Hotel/Restaurant name  \\\n",
       "0  rn570750447    Reviewed April 3, 2018     Kathu  Restaurant Royale Nam Tok   \n",
       "1  rn564529149    Reviewed March 4, 2018     Kathu  Restaurant Royale Nam Tok   \n",
       "2  rn551379463  Reviewed January 3, 2018     Kathu  Restaurant Royale Nam Tok   \n",
       "3  rn514076003  Reviewed August 16, 2017     Kathu  Restaurant Royale Nam Tok   \n",
       "4  rn470181181   Reviewed March 25, 2017     Kathu  Restaurant Royale Nam Tok   \n",
       "\n",
       "                                              Review  \n",
       "0  We were astonished to have found this little g...  \n",
       "1  Please no0te that this restaurant doesnt take ...  \n",
       "2  Had the perfect dinner in regal surroundings l...  \n",
       "3  This restaurant is a hidden gem. Its takes a l...  \n",
       "4  AAA+++ Bond Rating!! I have business interests...  "
      ]
     },
     "execution_count": 72,
     "metadata": {},
     "output_type": "execute_result"
    }
   ],
   "source": [
    "preferred_30_hotels.head()"
   ]
  },
  {
   "cell_type": "code",
   "execution_count": 73,
   "id": "a4e10f83",
   "metadata": {},
   "outputs": [
    {
     "data": {
      "text/html": [
       "<div>\n",
       "<style scoped>\n",
       "    .dataframe tbody tr th:only-of-type {\n",
       "        vertical-align: middle;\n",
       "    }\n",
       "\n",
       "    .dataframe tbody tr th {\n",
       "        vertical-align: top;\n",
       "    }\n",
       "\n",
       "    .dataframe thead th {\n",
       "        text-align: right;\n",
       "    }\n",
       "</style>\n",
       "<table border=\"1\" class=\"dataframe\">\n",
       "  <thead>\n",
       "    <tr style=\"text-align: right;\">\n",
       "      <th></th>\n",
       "      <th>ID</th>\n",
       "      <th>Review Date</th>\n",
       "      <th>Location</th>\n",
       "      <th>Hotel/Restaurant name</th>\n",
       "      <th>Review</th>\n",
       "    </tr>\n",
       "  </thead>\n",
       "  <tbody>\n",
       "    <tr>\n",
       "      <th>2925</th>\n",
       "      <td>rn548626399</td>\n",
       "      <td>Reviewed December 22, 2017</td>\n",
       "      <td>Rawai</td>\n",
       "      <td>Divino Tapas Restaurant</td>\n",
       "      <td>We only ordered off the Thai menu and with fus...</td>\n",
       "    </tr>\n",
       "    <tr>\n",
       "      <th>2926</th>\n",
       "      <td>rn545657769</td>\n",
       "      <td>Reviewed December 6, 2017</td>\n",
       "      <td>Rawai</td>\n",
       "      <td>Divino Tapas Restaurant</td>\n",
       "      <td>Divino is one of our favorite places in Phuket...</td>\n",
       "    </tr>\n",
       "    <tr>\n",
       "      <th>2927</th>\n",
       "      <td>rn542340593</td>\n",
       "      <td>Reviewed November 20, 2017</td>\n",
       "      <td>Rawai</td>\n",
       "      <td>Divino Tapas Restaurant</td>\n",
       "      <td>Meet Robert during our dinner at his other bra...</td>\n",
       "    </tr>\n",
       "    <tr>\n",
       "      <th>2928</th>\n",
       "      <td>rn540802906</td>\n",
       "      <td>Reviewed November 13, 2017</td>\n",
       "      <td>Rawai</td>\n",
       "      <td>Divino Tapas Restaurant</td>\n",
       "      <td>My husband and I arrived in late at night and ...</td>\n",
       "    </tr>\n",
       "    <tr>\n",
       "      <th>2929</th>\n",
       "      <td>rn528444815</td>\n",
       "      <td>Reviewed September 30, 2017</td>\n",
       "      <td>Rawai</td>\n",
       "      <td>Divino Tapas Restaurant</td>\n",
       "      <td>We were the only table in the restaurant but d...</td>\n",
       "    </tr>\n",
       "  </tbody>\n",
       "</table>\n",
       "</div>"
      ],
      "text/plain": [
       "               ID                   Review Date Location  \\\n",
       "2925  rn548626399   Reviewed December 22, 2017     Rawai   \n",
       "2926  rn545657769    Reviewed December 6, 2017     Rawai   \n",
       "2927  rn542340593   Reviewed November 20, 2017     Rawai   \n",
       "2928  rn540802906   Reviewed November 13, 2017     Rawai   \n",
       "2929  rn528444815  Reviewed September 30, 2017     Rawai   \n",
       "\n",
       "        Hotel/Restaurant name  \\\n",
       "2925  Divino Tapas Restaurant   \n",
       "2926  Divino Tapas Restaurant   \n",
       "2927  Divino Tapas Restaurant   \n",
       "2928  Divino Tapas Restaurant   \n",
       "2929  Divino Tapas Restaurant   \n",
       "\n",
       "                                                 Review  \n",
       "2925  We only ordered off the Thai menu and with fus...  \n",
       "2926  Divino is one of our favorite places in Phuket...  \n",
       "2927  Meet Robert during our dinner at his other bra...  \n",
       "2928  My husband and I arrived in late at night and ...  \n",
       "2929  We were the only table in the restaurant but d...  "
      ]
     },
     "execution_count": 73,
     "metadata": {},
     "output_type": "execute_result"
    }
   ],
   "source": [
    "preferred_30_hotels.tail()"
   ]
  },
  {
   "cell_type": "markdown",
   "id": "414ceb86",
   "metadata": {},
   "source": [
    "# Total number of Reviews in the location selected"
   ]
  },
  {
   "cell_type": "code",
   "execution_count": 74,
   "id": "28602914",
   "metadata": {},
   "outputs": [
    {
     "data": {
      "text/plain": [
       "2680"
      ]
     },
     "execution_count": 74,
     "metadata": {},
     "output_type": "execute_result"
    }
   ],
   "source": [
    "len(preferred_30_hotels['Review'].unique())"
   ]
  },
  {
   "cell_type": "markdown",
   "id": "c8008020",
   "metadata": {},
   "source": [
    "# PLOTTING"
   ]
  },
  {
   "cell_type": "markdown",
   "id": "c5dcd4a4",
   "metadata": {},
   "source": [
    "Count plot for hotel names and number of reviews "
   ]
  },
  {
   "cell_type": "code",
   "execution_count": 75,
   "id": "709c9e8b",
   "metadata": {},
   "outputs": [
    {
     "data": {
      "image/png": "[encoded data removed]",
      "text/plain": [
       "<Figure size 1600x1000 with 1 Axes>"
      ]
     },
     "metadata": {},
     "output_type": "display_data"
    }
   ],
   "source": [
    "plt.figure(figsize=(16,10))\n",
    "preferred_30_hotels['Hotel/Restaurant name'].value_counts().plot(kind='barh')\n",
    "plt.ylabel('Hotel/Restaurant name')\n",
    "plt.xlabel('Review')\n",
    "\n",
    "plt.tight_layout()\n",
    "plt.savefig('hotel name and review.png')\n",
    "plt.show()"
   ]
  },
  {
   "cell_type": "markdown",
   "id": "c880604c",
   "metadata": {},
   "source": [
    "# EXPLORE THE DATA OF THE SELECTED HOTELS"
   ]
  },
  {
   "cell_type": "markdown",
   "id": "ff2c4826",
   "metadata": {},
   "source": [
    "# Select only the Hotel Name and Reviews as column names "
   ]
  },
  {
   "cell_type": "code",
   "execution_count": 76,
   "id": "2609626a",
   "metadata": {},
   "outputs": [],
   "source": [
    "preferred_30_hotels = hotel_data[['Hotel/Restaurant name', 'Review']][hotel_data['Hotel/Restaurant name'].isin(sequence_hotel)]"
   ]
  },
  {
   "cell_type": "code",
   "execution_count": 77,
   "id": "872c7286",
   "metadata": {},
   "outputs": [],
   "source": [
    "preferred_30_hotels = preferred_30_hotels.reset_index(drop=True)"
   ]
  },
  {
   "cell_type": "code",
   "execution_count": 78,
   "id": "a3273bb8",
   "metadata": {},
   "outputs": [
    {
     "data": {
      "text/html": [
       "<div>\n",
       "<style scoped>\n",
       "    .dataframe tbody tr th:only-of-type {\n",
       "        vertical-align: middle;\n",
       "    }\n",
       "\n",
       "    .dataframe tbody tr th {\n",
       "        vertical-align: top;\n",
       "    }\n",
       "\n",
       "    .dataframe thead th {\n",
       "        text-align: right;\n",
       "    }\n",
       "</style>\n",
       "<table border=\"1\" class=\"dataframe\">\n",
       "  <thead>\n",
       "    <tr style=\"text-align: right;\">\n",
       "      <th></th>\n",
       "      <th>Hotel/Restaurant name</th>\n",
       "      <th>Review</th>\n",
       "    </tr>\n",
       "  </thead>\n",
       "  <tbody>\n",
       "    <tr>\n",
       "      <th>0</th>\n",
       "      <td>Restaurant Royale Nam Tok</td>\n",
       "      <td>We were astonished to have found this little g...</td>\n",
       "    </tr>\n",
       "    <tr>\n",
       "      <th>1</th>\n",
       "      <td>Restaurant Royale Nam Tok</td>\n",
       "      <td>Please no0te that this restaurant doesnt take ...</td>\n",
       "    </tr>\n",
       "    <tr>\n",
       "      <th>2</th>\n",
       "      <td>Restaurant Royale Nam Tok</td>\n",
       "      <td>Had the perfect dinner in regal surroundings l...</td>\n",
       "    </tr>\n",
       "    <tr>\n",
       "      <th>3</th>\n",
       "      <td>Restaurant Royale Nam Tok</td>\n",
       "      <td>This restaurant is a hidden gem. Its takes a l...</td>\n",
       "    </tr>\n",
       "    <tr>\n",
       "      <th>4</th>\n",
       "      <td>Restaurant Royale Nam Tok</td>\n",
       "      <td>AAA+++ Bond Rating!! I have business interests...</td>\n",
       "    </tr>\n",
       "    <tr>\n",
       "      <th>...</th>\n",
       "      <td>...</td>\n",
       "      <td>...</td>\n",
       "    </tr>\n",
       "    <tr>\n",
       "      <th>2925</th>\n",
       "      <td>Divino Tapas Restaurant</td>\n",
       "      <td>We only ordered off the Thai menu and with fus...</td>\n",
       "    </tr>\n",
       "    <tr>\n",
       "      <th>2926</th>\n",
       "      <td>Divino Tapas Restaurant</td>\n",
       "      <td>Divino is one of our favorite places in Phuket...</td>\n",
       "    </tr>\n",
       "    <tr>\n",
       "      <th>2927</th>\n",
       "      <td>Divino Tapas Restaurant</td>\n",
       "      <td>Meet Robert during our dinner at his other bra...</td>\n",
       "    </tr>\n",
       "    <tr>\n",
       "      <th>2928</th>\n",
       "      <td>Divino Tapas Restaurant</td>\n",
       "      <td>My husband and I arrived in late at night and ...</td>\n",
       "    </tr>\n",
       "    <tr>\n",
       "      <th>2929</th>\n",
       "      <td>Divino Tapas Restaurant</td>\n",
       "      <td>We were the only table in the restaurant but d...</td>\n",
       "    </tr>\n",
       "  </tbody>\n",
       "</table>\n",
       "<p>2930 rows × 2 columns</p>\n",
       "</div>"
      ],
      "text/plain": [
       "          Hotel/Restaurant name  \\\n",
       "0     Restaurant Royale Nam Tok   \n",
       "1     Restaurant Royale Nam Tok   \n",
       "2     Restaurant Royale Nam Tok   \n",
       "3     Restaurant Royale Nam Tok   \n",
       "4     Restaurant Royale Nam Tok   \n",
       "...                         ...   \n",
       "2925    Divino Tapas Restaurant   \n",
       "2926    Divino Tapas Restaurant   \n",
       "2927    Divino Tapas Restaurant   \n",
       "2928    Divino Tapas Restaurant   \n",
       "2929    Divino Tapas Restaurant   \n",
       "\n",
       "                                                 Review  \n",
       "0     We were astonished to have found this little g...  \n",
       "1     Please no0te that this restaurant doesnt take ...  \n",
       "2     Had the perfect dinner in regal surroundings l...  \n",
       "3     This restaurant is a hidden gem. Its takes a l...  \n",
       "4     AAA+++ Bond Rating!! I have business interests...  \n",
       "...                                                 ...  \n",
       "2925  We only ordered off the Thai menu and with fus...  \n",
       "2926  Divino is one of our favorite places in Phuket...  \n",
       "2927  Meet Robert during our dinner at his other bra...  \n",
       "2928  My husband and I arrived in late at night and ...  \n",
       "2929  We were the only table in the restaurant but d...  \n",
       "\n",
       "[2930 rows x 2 columns]"
      ]
     },
     "execution_count": 78,
     "metadata": {},
     "output_type": "execute_result"
    }
   ],
   "source": [
    "preferred_30_hotels"
   ]
  },
  {
   "cell_type": "markdown",
   "id": "e4af2dca",
   "metadata": {},
   "source": [
    "There are some letters that are not necessary on the revies as it is shown on 5th row (AAA+++)"
   ]
  },
  {
   "cell_type": "code",
   "execution_count": 79,
   "id": "d2901a0e",
   "metadata": {},
   "outputs": [
    {
     "data": {
      "text/plain": [
       "'AAA+++ Bond Rating!! I have business interests and homes spanning 4 continents and 16 time zones .. There are very few dining experiences I repeat and/or look forward to. We come to Phuket 3 times a year .. And see ourselves making it out here...More'"
      ]
     },
     "execution_count": 79,
     "metadata": {},
     "output_type": "execute_result"
    }
   ],
   "source": [
    "preferred_30_hotels.Review.iloc[4]"
   ]
  },
  {
   "cell_type": "markdown",
   "id": "0195d359",
   "metadata": {},
   "source": [
    "As such, there is a need to import REGULAR EXPRESSION for data cleaning"
   ]
  },
  {
   "cell_type": "code",
   "execution_count": 80,
   "id": "e445f77a",
   "metadata": {},
   "outputs": [],
   "source": [
    "import re"
   ]
  },
  {
   "cell_type": "markdown",
   "id": "6e2efa47",
   "metadata": {},
   "source": [
    "To return a-z and A-Z"
   ]
  },
  {
   "cell_type": "code",
   "execution_count": 81,
   "id": "20d21e19",
   "metadata": {},
   "outputs": [
    {
     "data": {
      "text/plain": [
       "['AAA',\n",
       " 'Bond',\n",
       " 'Rating',\n",
       " 'I',\n",
       " 'have',\n",
       " 'business',\n",
       " 'interests',\n",
       " 'and',\n",
       " 'homes',\n",
       " 'spanning',\n",
       " 'continents',\n",
       " 'and',\n",
       " 'time',\n",
       " 'zones',\n",
       " 'There',\n",
       " 'are',\n",
       " 'very',\n",
       " 'few',\n",
       " 'dining',\n",
       " 'experiences',\n",
       " 'I',\n",
       " 'repeat',\n",
       " 'and',\n",
       " 'or',\n",
       " 'look',\n",
       " 'forward',\n",
       " 'to',\n",
       " 'We',\n",
       " 'come',\n",
       " 'to',\n",
       " 'Phuket',\n",
       " 'times',\n",
       " 'a',\n",
       " 'year',\n",
       " 'And',\n",
       " 'see',\n",
       " 'ourselves',\n",
       " 'making',\n",
       " 'it',\n",
       " 'out',\n",
       " 'here',\n",
       " 'More']"
      ]
     },
     "execution_count": 81,
     "metadata": {},
     "output_type": "execute_result"
    }
   ],
   "source": [
    "re.findall('[a-zA-Z]+', preferred_30_hotels.Review.iloc[4])"
   ]
  },
  {
   "cell_type": "markdown",
   "id": "420be3df",
   "metadata": {},
   "source": [
    "Join the letters together to form a sentence "
   ]
  },
  {
   "cell_type": "code",
   "execution_count": 82,
   "id": "4f2e0268",
   "metadata": {},
   "outputs": [
    {
     "data": {
      "text/plain": [
       "'AAA Bond Rating I have business interests and homes spanning continents and time zones There are very few dining experiences I repeat and or look forward to We come to Phuket times a year And see ourselves making it out here More'"
      ]
     },
     "execution_count": 82,
     "metadata": {},
     "output_type": "execute_result"
    }
   ],
   "source": [
    "new_reviews_row5 = ' '.join(re.findall('[a-zA-Z]+', preferred_30_hotels.Review.iloc[4]))\n",
    "new_reviews_row5"
   ]
  },
  {
   "cell_type": "markdown",
   "id": "d06a29ff",
   "metadata": {},
   "source": [
    "# LEMMATIZATION"
   ]
  },
  {
   "cell_type": "markdown",
   "id": "fdeaf22e",
   "metadata": {},
   "source": [
    "Lemmatization deals with reducing the word or the search query to its canonical dictionary form.\n"
   ]
  },
  {
   "cell_type": "markdown",
   "id": "35025436",
   "metadata": {},
   "source": [
    "#### SPACY "
   ]
  },
  {
   "cell_type": "code",
   "execution_count": 83,
   "id": "ee99a698",
   "metadata": {},
   "outputs": [
    {
     "name": "stdout",
     "output_type": "stream",
     "text": [
      "Requirement already satisfied: pip in c:\\users\\ogunr\\anaconda3\\lib\\site-packages (22.3.1)\n",
      "Requirement already satisfied: setuptools in c:\\users\\ogunr\\anaconda3\\lib\\site-packages (65.6.0)\n",
      "Requirement already satisfied: wheel in c:\\users\\ogunr\\anaconda3\\lib\\site-packages (0.38.4)\n",
      "Note: you may need to restart the kernel to use updated packages.\n"
     ]
    }
   ],
   "source": [
    "pip install -U pip setuptools wheel"
   ]
  },
  {
   "cell_type": "code",
   "execution_count": 84,
   "id": "96f01bbe",
   "metadata": {},
   "outputs": [
    {
     "name": "stdout",
     "output_type": "stream",
     "text": [
      "Requirement already satisfied: spacy in c:\\users\\ogunr\\anaconda3\\lib\\site-packages (3.4.3)\n",
      "Requirement already satisfied: langcodes<4.0.0,>=3.2.0 in c:\\users\\ogunr\\anaconda3\\lib\\site-packages (from spacy) (3.3.0)\n",
      "Requirement already satisfied: typer<0.8.0,>=0.3.0 in c:\\users\\ogunr\\anaconda3\\lib\\site-packages (from spacy) (0.7.0)\n",
      "Requirement already satisfied: thinc<8.2.0,>=8.1.0 in c:\\users\\ogunr\\anaconda3\\lib\\site-packages (from spacy) (8.1.5)\n",
      "Requirement already satisfied: srsly<3.0.0,>=2.4.3 in c:\\users\\ogunr\\anaconda3\\lib\\site-packages (from spacy) (2.4.5)\n",
      "Requirement already satisfied: pydantic!=1.8,!=1.8.1,<1.11.0,>=1.7.4 in c:\\users\\ogunr\\anaconda3\\lib\\site-packages (from spacy) (1.10.2)\n",
      "Requirement already satisfied: setuptools in c:\\users\\ogunr\\anaconda3\\lib\\site-packages (from spacy) (65.6.0)\n",
      "Requirement already satisfied: numpy>=1.15.0 in c:\\users\\ogunr\\anaconda3\\lib\\site-packages (from spacy) (1.21.5)\n",
      "Requirement already satisfied: cymem<2.1.0,>=2.0.2 in c:\\users\\ogunr\\anaconda3\\lib\\site-packages (from spacy) (2.0.7)\n",
      "Requirement already satisfied: tqdm<5.0.0,>=4.38.0 in c:\\users\\ogunr\\anaconda3\\lib\\site-packages (from spacy) (4.64.1)\n",
      "Requirement already satisfied: pathy>=0.3.5 in c:\\users\\ogunr\\anaconda3\\lib\\site-packages (from spacy) (0.8.1)\n",
      "Requirement already satisfied: wasabi<1.1.0,>=0.9.1 in c:\\users\\ogunr\\anaconda3\\lib\\site-packages (from spacy) (0.10.1)\n",
      "Requirement already satisfied: spacy-loggers<2.0.0,>=1.0.0 in c:\\users\\ogunr\\anaconda3\\lib\\site-packages (from spacy) (1.0.3)\n",
      "Requirement already satisfied: spacy-legacy<3.1.0,>=3.0.10 in c:\\users\\ogunr\\anaconda3\\lib\\site-packages (from spacy) (3.0.10)\n",
      "Requirement already satisfied: murmurhash<1.1.0,>=0.28.0 in c:\\users\\ogunr\\anaconda3\\lib\\site-packages (from spacy) (1.0.9)\n",
      "Requirement already satisfied: packaging>=20.0 in c:\\users\\ogunr\\anaconda3\\lib\\site-packages (from spacy) (21.3)\n",
      "Requirement already satisfied: jinja2 in c:\\users\\ogunr\\anaconda3\\lib\\site-packages (from spacy) (2.11.3)\n",
      "Requirement already satisfied: preshed<3.1.0,>=3.0.2 in c:\\users\\ogunr\\anaconda3\\lib\\site-packages (from spacy) (3.0.8)\n",
      "Requirement already satisfied: catalogue<2.1.0,>=2.0.6 in c:\\users\\ogunr\\anaconda3\\lib\\site-packages (from spacy) (2.0.8)\n",
      "Requirement already satisfied: requests<3.0.0,>=2.13.0 in c:\\users\\ogunr\\anaconda3\\lib\\site-packages (from spacy) (2.28.1)\n",
      "Requirement already satisfied: pyparsing!=3.0.5,>=2.0.2 in c:\\users\\ogunr\\anaconda3\\lib\\site-packages (from packaging>=20.0->spacy) (3.0.9)\n",
      "Requirement already satisfied: smart-open<6.0.0,>=5.2.1 in c:\\users\\ogunr\\anaconda3\\lib\\site-packages (from pathy>=0.3.5->spacy) (5.2.1)\n",
      "Requirement already satisfied: typing-extensions>=4.1.0 in c:\\users\\ogunr\\anaconda3\\lib\\site-packages (from pydantic!=1.8,!=1.8.1,<1.11.0,>=1.7.4->spacy) (4.3.0)\n",
      "Requirement already satisfied: certifi>=2017.4.17 in c:\\users\\ogunr\\anaconda3\\lib\\site-packages (from requests<3.0.0,>=2.13.0->spacy) (2022.9.14)\n",
      "Requirement already satisfied: charset-normalizer<3,>=2 in c:\\users\\ogunr\\anaconda3\\lib\\site-packages (from requests<3.0.0,>=2.13.0->spacy) (2.0.4)\n",
      "Requirement already satisfied: urllib3<1.27,>=1.21.1 in c:\\users\\ogunr\\anaconda3\\lib\\site-packages (from requests<3.0.0,>=2.13.0->spacy) (1.26.11)\n",
      "Requirement already satisfied: idna<4,>=2.5 in c:\\users\\ogunr\\anaconda3\\lib\\site-packages (from requests<3.0.0,>=2.13.0->spacy) (3.3)\n",
      "Requirement already satisfied: confection<1.0.0,>=0.0.1 in c:\\users\\ogunr\\anaconda3\\lib\\site-packages (from thinc<8.2.0,>=8.1.0->spacy) (0.0.3)\n",
      "Requirement already satisfied: blis<0.8.0,>=0.7.8 in c:\\users\\ogunr\\anaconda3\\lib\\site-packages (from thinc<8.2.0,>=8.1.0->spacy) (0.7.9)\n",
      "Requirement already satisfied: colorama in c:\\users\\ogunr\\anaconda3\\lib\\site-packages (from tqdm<5.0.0,>=4.38.0->spacy) (0.4.5)\n",
      "Requirement already satisfied: click<9.0.0,>=7.1.1 in c:\\users\\ogunr\\anaconda3\\lib\\site-packages (from typer<0.8.0,>=0.3.0->spacy) (8.0.4)\n",
      "Requirement already satisfied: MarkupSafe>=0.23 in c:\\users\\ogunr\\anaconda3\\lib\\site-packages (from jinja2->spacy) (2.0.1)\n",
      "Note: you may need to restart the kernel to use updated packages.\n"
     ]
    }
   ],
   "source": [
    "pip install -U spacy"
   ]
  },
  {
   "cell_type": "code",
   "execution_count": 85,
   "id": "aae71abe",
   "metadata": {},
   "outputs": [
    {
     "name": "stdout",
     "output_type": "stream",
     "text": [
      "⚠ As of spaCy v3.0, shortcuts like 'en' are deprecated. Please use the full\n",
      "pipeline package name 'en_core_web_sm' instead.\n",
      "✔ Download and installation successful\n",
      "You can now load the package via spacy.load('en_core_web_sm')\n"
     ]
    }
   ],
   "source": [
    "import spacy\n",
    "spacy.cli.download(\"en\")\n",
    "from spacy.lang.en import STOP_WORDS"
   ]
  },
  {
   "cell_type": "code",
   "execution_count": 86,
   "id": "ef5cf901",
   "metadata": {},
   "outputs": [],
   "source": [
    "nlp = spacy.load(\"en_core_web_sm\")"
   ]
  },
  {
   "cell_type": "code",
   "execution_count": 87,
   "id": "d0df1af4",
   "metadata": {},
   "outputs": [
    {
     "data": {
      "text/plain": [
       "AAA Bond Rating I have business interests and homes spanning continents and time zones There are very few dining experiences I repeat and or look forward to We come to Phuket times a year And see ourselves making it out here More"
      ]
     },
     "execution_count": 87,
     "metadata": {},
     "output_type": "execute_result"
    }
   ],
   "source": [
    "nlp(new_reviews_row5)"
   ]
  },
  {
   "cell_type": "markdown",
   "id": "28c713c1",
   "metadata": {},
   "source": [
    "# Applying LEMMATIZATION"
   ]
  },
  {
   "cell_type": "code",
   "execution_count": 88,
   "id": "021cc3d5",
   "metadata": {},
   "outputs": [
    {
     "data": {
      "text/plain": [
       "['AAA',\n",
       " 'Bond',\n",
       " 'rating',\n",
       " 'I',\n",
       " 'have',\n",
       " 'business',\n",
       " 'interest',\n",
       " 'and',\n",
       " 'home',\n",
       " 'span',\n",
       " 'continent',\n",
       " 'and',\n",
       " 'time',\n",
       " 'zone',\n",
       " 'there',\n",
       " 'be',\n",
       " 'very',\n",
       " 'few',\n",
       " 'dining',\n",
       " 'experience',\n",
       " 'I',\n",
       " 'repeat',\n",
       " 'and',\n",
       " 'or',\n",
       " 'look',\n",
       " 'forward',\n",
       " 'to',\n",
       " 'we',\n",
       " 'come',\n",
       " 'to',\n",
       " 'Phuket',\n",
       " 'times',\n",
       " 'a',\n",
       " 'year',\n",
       " 'and',\n",
       " 'see',\n",
       " 'ourselves',\n",
       " 'make',\n",
       " 'it',\n",
       " 'out',\n",
       " 'here',\n",
       " 'more']"
      ]
     },
     "execution_count": 88,
     "metadata": {},
     "output_type": "execute_result"
    }
   ],
   "source": [
    "[word.lemma_ for word in nlp(new_reviews_row5)]"
   ]
  },
  {
   "cell_type": "markdown",
   "id": "30835997",
   "metadata": {},
   "source": [
    "# THEN JOIN"
   ]
  },
  {
   "cell_type": "code",
   "execution_count": 89,
   "id": "003077bb",
   "metadata": {},
   "outputs": [
    {
     "data": {
      "text/plain": [
       "'AAA Bond rating I have business interest and home span continent and time zone there be very few dining experience I repeat and or look forward to we come to Phuket times a year and see ourselves make it out here more'"
      ]
     },
     "execution_count": 89,
     "metadata": {},
     "output_type": "execute_result"
    }
   ],
   "source": [
    "' '.join([word.lemma_ for word in nlp(new_reviews_row5)])"
   ]
  },
  {
   "cell_type": "markdown",
   "id": "2fdb913c",
   "metadata": {},
   "source": [
    "#### THEN APPLYING A FUNCTION ON ALL THE REVIEWS AS LEMMATIZATION WAS ONLY APPLIED ON ONE REVIEW ABOVE"
   ]
  },
  {
   "cell_type": "code",
   "execution_count": 90,
   "id": "bacdf41b",
   "metadata": {},
   "outputs": [],
   "source": [
    "def lemmatizer(text):\n",
    "    return [word.lemma_ for word in  nlp(text)]\n",
    "\n",
    "\n",
    "def data_cleaner(text: str) -> str:\n",
    "    \n",
    "    text=re.findall('[a-zA-Z]+', text) \n",
    "    text=' '.join([c for c in text]) \n",
    "    text=text.lower() \n",
    "    text = ' '.join([word for word in text.split() if word not in STOP_WORDS])\n",
    "    lemmatized = lemmatizer(text)\n",
    "    cleaned= ' '.join(lemmatized)\n",
    "    \n",
    "    return cleaned"
   ]
  },
  {
   "cell_type": "code",
   "execution_count": 91,
   "id": "70eddb96",
   "metadata": {},
   "outputs": [
    {
     "data": {
      "text/plain": [
       "'aaa bond rating business interest home span continent time zone dine experience repeat look forward come phuket time year make'"
      ]
     },
     "execution_count": 91,
     "metadata": {},
     "output_type": "execute_result"
    }
   ],
   "source": [
    "data_cleaner(preferred_30_hotels.Review.iloc[4])"
   ]
  },
  {
   "cell_type": "markdown",
   "id": "e4b7a2b8",
   "metadata": {},
   "source": [
    "#### Before the 4th review is cleaned"
   ]
  },
  {
   "cell_type": "code",
   "execution_count": 92,
   "id": "dece8804",
   "metadata": {},
   "outputs": [
    {
     "data": {
      "text/plain": [
       "'AAA+++ Bond Rating!! I have business interests and homes spanning 4 continents and 16 time zones .. There are very few dining experiences I repeat and/or look forward to. We come to Phuket 3 times a year .. And see ourselves making it out here...More'"
      ]
     },
     "execution_count": 92,
     "metadata": {},
     "output_type": "execute_result"
    }
   ],
   "source": [
    "preferred_30_hotels.Review.iloc[4]"
   ]
  },
  {
   "cell_type": "markdown",
   "id": "14243567",
   "metadata": {},
   "source": [
    "# APPLICATION ON ALL 30 REVIEWS"
   ]
  },
  {
   "cell_type": "code",
   "execution_count": 93,
   "id": "c1671a59",
   "metadata": {},
   "outputs": [],
   "source": [
    "preferred_30_hotels.loc[:, 'Review_cleaned'] = preferred_30_hotels.loc[:, 'Review'].apply(data_cleaner)"
   ]
  },
  {
   "cell_type": "code",
   "execution_count": 94,
   "id": "6db62491",
   "metadata": {},
   "outputs": [
    {
     "data": {
      "text/html": [
       "<div>\n",
       "<style scoped>\n",
       "    .dataframe tbody tr th:only-of-type {\n",
       "        vertical-align: middle;\n",
       "    }\n",
       "\n",
       "    .dataframe tbody tr th {\n",
       "        vertical-align: top;\n",
       "    }\n",
       "\n",
       "    .dataframe thead th {\n",
       "        text-align: right;\n",
       "    }\n",
       "</style>\n",
       "<table border=\"1\" class=\"dataframe\">\n",
       "  <thead>\n",
       "    <tr style=\"text-align: right;\">\n",
       "      <th></th>\n",
       "      <th>Hotel/Restaurant name</th>\n",
       "      <th>Review</th>\n",
       "      <th>Review_cleaned</th>\n",
       "    </tr>\n",
       "  </thead>\n",
       "  <tbody>\n",
       "    <tr>\n",
       "      <th>0</th>\n",
       "      <td>Restaurant Royale Nam Tok</td>\n",
       "      <td>We were astonished to have found this little g...</td>\n",
       "      <td>astonish find little gem restaurant middle lit...</td>\n",
       "    </tr>\n",
       "    <tr>\n",
       "      <th>1</th>\n",
       "      <td>Restaurant Royale Nam Tok</td>\n",
       "      <td>Please no0te that this restaurant doesnt take ...</td>\n",
       "      <td>te restaurant do not walk in don t tacky peopl...</td>\n",
       "    </tr>\n",
       "    <tr>\n",
       "      <th>2</th>\n",
       "      <td>Restaurant Royale Nam Tok</td>\n",
       "      <td>Had the perfect dinner in regal surroundings l...</td>\n",
       "      <td>perfect dinner regal surrounding night royale ...</td>\n",
       "    </tr>\n",
       "    <tr>\n",
       "      <th>3</th>\n",
       "      <td>Restaurant Royale Nam Tok</td>\n",
       "      <td>This restaurant is a hidden gem. Its takes a l...</td>\n",
       "      <td>restaurant hide gem take little bit snoop kath...</td>\n",
       "    </tr>\n",
       "    <tr>\n",
       "      <th>4</th>\n",
       "      <td>Restaurant Royale Nam Tok</td>\n",
       "      <td>AAA+++ Bond Rating!! I have business interests...</td>\n",
       "      <td>aaa bond rating business interest home span co...</td>\n",
       "    </tr>\n",
       "  </tbody>\n",
       "</table>\n",
       "</div>"
      ],
      "text/plain": [
       "       Hotel/Restaurant name  \\\n",
       "0  Restaurant Royale Nam Tok   \n",
       "1  Restaurant Royale Nam Tok   \n",
       "2  Restaurant Royale Nam Tok   \n",
       "3  Restaurant Royale Nam Tok   \n",
       "4  Restaurant Royale Nam Tok   \n",
       "\n",
       "                                              Review  \\\n",
       "0  We were astonished to have found this little g...   \n",
       "1  Please no0te that this restaurant doesnt take ...   \n",
       "2  Had the perfect dinner in regal surroundings l...   \n",
       "3  This restaurant is a hidden gem. Its takes a l...   \n",
       "4  AAA+++ Bond Rating!! I have business interests...   \n",
       "\n",
       "                                      Review_cleaned  \n",
       "0  astonish find little gem restaurant middle lit...  \n",
       "1  te restaurant do not walk in don t tacky peopl...  \n",
       "2  perfect dinner regal surrounding night royale ...  \n",
       "3  restaurant hide gem take little bit snoop kath...  \n",
       "4  aaa bond rating business interest home span co...  "
      ]
     },
     "execution_count": 94,
     "metadata": {},
     "output_type": "execute_result"
    }
   ],
   "source": [
    "preferred_30_hotels.head()"
   ]
  },
  {
   "cell_type": "code",
   "execution_count": 95,
   "id": "fc32daf8",
   "metadata": {},
   "outputs": [
    {
     "data": {
      "text/html": [
       "<div>\n",
       "<style scoped>\n",
       "    .dataframe tbody tr th:only-of-type {\n",
       "        vertical-align: middle;\n",
       "    }\n",
       "\n",
       "    .dataframe tbody tr th {\n",
       "        vertical-align: top;\n",
       "    }\n",
       "\n",
       "    .dataframe thead th {\n",
       "        text-align: right;\n",
       "    }\n",
       "</style>\n",
       "<table border=\"1\" class=\"dataframe\">\n",
       "  <thead>\n",
       "    <tr style=\"text-align: right;\">\n",
       "      <th></th>\n",
       "      <th>Hotel/Restaurant name</th>\n",
       "      <th>Review</th>\n",
       "      <th>Review_cleaned</th>\n",
       "    </tr>\n",
       "  </thead>\n",
       "  <tbody>\n",
       "    <tr>\n",
       "      <th>2925</th>\n",
       "      <td>Divino Tapas Restaurant</td>\n",
       "      <td>We only ordered off the Thai menu and with fus...</td>\n",
       "      <td>order thai menu fussy kid allow order pizza fr...</td>\n",
       "    </tr>\n",
       "    <tr>\n",
       "      <th>2926</th>\n",
       "      <td>Divino Tapas Restaurant</td>\n",
       "      <td>Divino is one of our favorite places in Phuket...</td>\n",
       "      <td>divino favorite place phuket robert khun busab...</td>\n",
       "    </tr>\n",
       "    <tr>\n",
       "      <th>2927</th>\n",
       "      <td>Divino Tapas Restaurant</td>\n",
       "      <td>Meet Robert during our dinner at his other bra...</td>\n",
       "      <td>meet robert dinner branch albatross cafe locat...</td>\n",
       "    </tr>\n",
       "    <tr>\n",
       "      <th>2928</th>\n",
       "      <td>Divino Tapas Restaurant</td>\n",
       "      <td>My husband and I arrived in late at night and ...</td>\n",
       "      <td>husband arrive late night pleasure meeting own...</td>\n",
       "    </tr>\n",
       "    <tr>\n",
       "      <th>2929</th>\n",
       "      <td>Divino Tapas Restaurant</td>\n",
       "      <td>We were the only table in the restaurant but d...</td>\n",
       "      <td>table restaurant despite service little shaky ...</td>\n",
       "    </tr>\n",
       "  </tbody>\n",
       "</table>\n",
       "</div>"
      ],
      "text/plain": [
       "        Hotel/Restaurant name  \\\n",
       "2925  Divino Tapas Restaurant   \n",
       "2926  Divino Tapas Restaurant   \n",
       "2927  Divino Tapas Restaurant   \n",
       "2928  Divino Tapas Restaurant   \n",
       "2929  Divino Tapas Restaurant   \n",
       "\n",
       "                                                 Review  \\\n",
       "2925  We only ordered off the Thai menu and with fus...   \n",
       "2926  Divino is one of our favorite places in Phuket...   \n",
       "2927  Meet Robert during our dinner at his other bra...   \n",
       "2928  My husband and I arrived in late at night and ...   \n",
       "2929  We were the only table in the restaurant but d...   \n",
       "\n",
       "                                         Review_cleaned  \n",
       "2925  order thai menu fussy kid allow order pizza fr...  \n",
       "2926  divino favorite place phuket robert khun busab...  \n",
       "2927  meet robert dinner branch albatross cafe locat...  \n",
       "2928  husband arrive late night pleasure meeting own...  \n",
       "2929  table restaurant despite service little shaky ...  "
      ]
     },
     "execution_count": 95,
     "metadata": {},
     "output_type": "execute_result"
    }
   ],
   "source": [
    "preferred_30_hotels.tail()"
   ]
  },
  {
   "cell_type": "markdown",
   "id": "a0280d3f",
   "metadata": {},
   "source": [
    "# USE A BAR CHART TO CHECK FOR WORDS THAT ARE COMMON IN REVIEW"
   ]
  },
  {
   "cell_type": "code",
   "execution_count": 96,
   "id": "7e5f431f",
   "metadata": {},
   "outputs": [],
   "source": [
    "from sklearn.feature_extraction.text import CountVectorizer"
   ]
  },
  {
   "cell_type": "markdown",
   "id": "b77f6e45",
   "metadata": {},
   "source": [
    "CountVectorizer gives a bag of words(bag of words converts texts into vectors)"
   ]
  },
  {
   "cell_type": "code",
   "execution_count": 97,
   "id": "3f45f9eb",
   "metadata": {},
   "outputs": [],
   "source": [
    "count_vec=CountVectorizer(stop_words='english')\n",
    "Hotel_data_count_vec=count_vec.fit_transform(preferred_30_hotels['Review_cleaned'])"
   ]
  },
  {
   "cell_type": "code",
   "execution_count": 98,
   "id": "b2581ad5",
   "metadata": {},
   "outputs": [
    {
     "data": {
      "text/plain": [
       "array([[0, 0, 0, ..., 0, 0, 0],\n",
       "       [0, 0, 0, ..., 0, 0, 0],\n",
       "       [0, 0, 0, ..., 0, 0, 0],\n",
       "       ...,\n",
       "       [0, 0, 0, ..., 0, 0, 0],\n",
       "       [0, 0, 0, ..., 0, 0, 0],\n",
       "       [0, 0, 0, ..., 0, 0, 0]], dtype=int64)"
      ]
     },
     "execution_count": 98,
     "metadata": {},
     "output_type": "execute_result"
    }
   ],
   "source": [
    "Hotel_data_count_vec.toarray()"
   ]
  },
  {
   "cell_type": "markdown",
   "id": "a49e834e",
   "metadata": {},
   "source": [
    "###### MAKE A DATA FRAME TO COUNT THE OCCURENCE OF WORDS "
   ]
  },
  {
   "cell_type": "code",
   "execution_count": 99,
   "id": "c26939f2",
   "metadata": {},
   "outputs": [
    {
     "data": {
      "text/html": [
       "<div>\n",
       "<style scoped>\n",
       "    .dataframe tbody tr th:only-of-type {\n",
       "        vertical-align: middle;\n",
       "    }\n",
       "\n",
       "    .dataframe tbody tr th {\n",
       "        vertical-align: top;\n",
       "    }\n",
       "\n",
       "    .dataframe thead th {\n",
       "        text-align: right;\n",
       "    }\n",
       "</style>\n",
       "<table border=\"1\" class=\"dataframe\">\n",
       "  <thead>\n",
       "    <tr style=\"text-align: right;\">\n",
       "      <th></th>\n",
       "      <th>aaa</th>\n",
       "      <th>aaaah</th>\n",
       "      <th>ability</th>\n",
       "      <th>able</th>\n",
       "      <th>abound</th>\n",
       "      <th>abso</th>\n",
       "      <th>absoloutely</th>\n",
       "      <th>absolute</th>\n",
       "      <th>absolutely</th>\n",
       "      <th>abundance</th>\n",
       "      <th>...</th>\n",
       "      <th>yum</th>\n",
       "      <th>yummmmm</th>\n",
       "      <th>yummo</th>\n",
       "      <th>yummy</th>\n",
       "      <th>zealand</th>\n",
       "      <th>zigeuner</th>\n",
       "      <th>zing</th>\n",
       "      <th>zone</th>\n",
       "      <th>zucchini</th>\n",
       "      <th>zuppa</th>\n",
       "    </tr>\n",
       "  </thead>\n",
       "  <tbody>\n",
       "    <tr>\n",
       "      <th>0</th>\n",
       "      <td>0</td>\n",
       "      <td>0</td>\n",
       "      <td>0</td>\n",
       "      <td>0</td>\n",
       "      <td>0</td>\n",
       "      <td>0</td>\n",
       "      <td>0</td>\n",
       "      <td>0</td>\n",
       "      <td>0</td>\n",
       "      <td>0</td>\n",
       "      <td>...</td>\n",
       "      <td>0</td>\n",
       "      <td>0</td>\n",
       "      <td>0</td>\n",
       "      <td>0</td>\n",
       "      <td>0</td>\n",
       "      <td>0</td>\n",
       "      <td>0</td>\n",
       "      <td>0</td>\n",
       "      <td>0</td>\n",
       "      <td>0</td>\n",
       "    </tr>\n",
       "    <tr>\n",
       "      <th>1</th>\n",
       "      <td>0</td>\n",
       "      <td>0</td>\n",
       "      <td>0</td>\n",
       "      <td>0</td>\n",
       "      <td>0</td>\n",
       "      <td>0</td>\n",
       "      <td>0</td>\n",
       "      <td>0</td>\n",
       "      <td>0</td>\n",
       "      <td>0</td>\n",
       "      <td>...</td>\n",
       "      <td>0</td>\n",
       "      <td>0</td>\n",
       "      <td>0</td>\n",
       "      <td>0</td>\n",
       "      <td>0</td>\n",
       "      <td>0</td>\n",
       "      <td>0</td>\n",
       "      <td>0</td>\n",
       "      <td>0</td>\n",
       "      <td>0</td>\n",
       "    </tr>\n",
       "    <tr>\n",
       "      <th>2</th>\n",
       "      <td>0</td>\n",
       "      <td>0</td>\n",
       "      <td>0</td>\n",
       "      <td>0</td>\n",
       "      <td>0</td>\n",
       "      <td>0</td>\n",
       "      <td>0</td>\n",
       "      <td>0</td>\n",
       "      <td>0</td>\n",
       "      <td>0</td>\n",
       "      <td>...</td>\n",
       "      <td>0</td>\n",
       "      <td>0</td>\n",
       "      <td>0</td>\n",
       "      <td>0</td>\n",
       "      <td>0</td>\n",
       "      <td>0</td>\n",
       "      <td>0</td>\n",
       "      <td>0</td>\n",
       "      <td>0</td>\n",
       "      <td>0</td>\n",
       "    </tr>\n",
       "    <tr>\n",
       "      <th>3</th>\n",
       "      <td>0</td>\n",
       "      <td>0</td>\n",
       "      <td>0</td>\n",
       "      <td>0</td>\n",
       "      <td>0</td>\n",
       "      <td>0</td>\n",
       "      <td>0</td>\n",
       "      <td>0</td>\n",
       "      <td>0</td>\n",
       "      <td>0</td>\n",
       "      <td>...</td>\n",
       "      <td>0</td>\n",
       "      <td>0</td>\n",
       "      <td>0</td>\n",
       "      <td>0</td>\n",
       "      <td>0</td>\n",
       "      <td>0</td>\n",
       "      <td>0</td>\n",
       "      <td>0</td>\n",
       "      <td>0</td>\n",
       "      <td>0</td>\n",
       "    </tr>\n",
       "    <tr>\n",
       "      <th>4</th>\n",
       "      <td>1</td>\n",
       "      <td>0</td>\n",
       "      <td>0</td>\n",
       "      <td>0</td>\n",
       "      <td>0</td>\n",
       "      <td>0</td>\n",
       "      <td>0</td>\n",
       "      <td>0</td>\n",
       "      <td>0</td>\n",
       "      <td>0</td>\n",
       "      <td>...</td>\n",
       "      <td>0</td>\n",
       "      <td>0</td>\n",
       "      <td>0</td>\n",
       "      <td>0</td>\n",
       "      <td>0</td>\n",
       "      <td>0</td>\n",
       "      <td>0</td>\n",
       "      <td>1</td>\n",
       "      <td>0</td>\n",
       "      <td>0</td>\n",
       "    </tr>\n",
       "  </tbody>\n",
       "</table>\n",
       "<p>5 rows × 4413 columns</p>\n",
       "</div>"
      ],
      "text/plain": [
       "   aaa  aaaah  ability  able  abound  abso  absoloutely  absolute  absolutely  \\\n",
       "0    0      0        0     0       0     0            0         0           0   \n",
       "1    0      0        0     0       0     0            0         0           0   \n",
       "2    0      0        0     0       0     0            0         0           0   \n",
       "3    0      0        0     0       0     0            0         0           0   \n",
       "4    1      0        0     0       0     0            0         0           0   \n",
       "\n",
       "   abundance  ...  yum  yummmmm  yummo  yummy  zealand  zigeuner  zing  zone  \\\n",
       "0          0  ...    0        0      0      0        0         0     0     0   \n",
       "1          0  ...    0        0      0      0        0         0     0     0   \n",
       "2          0  ...    0        0      0      0        0         0     0     0   \n",
       "3          0  ...    0        0      0      0        0         0     0     0   \n",
       "4          0  ...    0        0      0      0        0         0     0     1   \n",
       "\n",
       "   zucchini  zuppa  \n",
       "0         0      0  \n",
       "1         0      0  \n",
       "2         0      0  \n",
       "3         0      0  \n",
       "4         0      0  \n",
       "\n",
       "[5 rows x 4413 columns]"
      ]
     },
     "execution_count": 99,
     "metadata": {},
     "output_type": "execute_result"
    }
   ],
   "source": [
    "new_hotel_data=pd.DataFrame(Hotel_data_count_vec.toarray(), columns=count_vec.get_feature_names_out())\n",
    "new_hotel_data.head()"
   ]
  },
  {
   "cell_type": "code",
   "execution_count": 100,
   "id": "6ba3f0c3",
   "metadata": {},
   "outputs": [
    {
     "data": {
      "text/plain": [
       "food          1803\n",
       "good          1483\n",
       "great          968\n",
       "restaurant     930\n",
       "place          862\n",
       "              ... \n",
       "deocr            1\n",
       "ownermore        1\n",
       "ownership        1\n",
       "deny             1\n",
       "zuppa            1\n",
       "Length: 4413, dtype: int64"
      ]
     },
     "execution_count": 100,
     "metadata": {},
     "output_type": "execute_result"
    }
   ],
   "source": [
    "new_hotel_data.sum(axis=0).sort_values(ascending=False)"
   ]
  },
  {
   "cell_type": "markdown",
   "id": "5d35e5f5",
   "metadata": {},
   "source": [
    "# Check top 25 most used words"
   ]
  },
  {
   "cell_type": "code",
   "execution_count": 101,
   "id": "b638132c",
   "metadata": {},
   "outputs": [
    {
     "data": {
      "text/plain": [
       "food          1803\n",
       "good          1483\n",
       "great          968\n",
       "restaurant     930\n",
       "place          862\n",
       "service        679\n",
       "staff          584\n",
       "nice           552\n",
       "thai           524\n",
       "friendly       445\n",
       "time           425\n",
       "price          417\n",
       "eat            414\n",
       "visit          337\n",
       "phuket         336\n",
       "menu           313\n",
       "rawai          312\n",
       "come           311\n",
       "order          300\n",
       "fresh          284\n",
       "excellent      275\n",
       "recommend      274\n",
       "delicious      262\n",
       "like           250\n",
       "beach          249\n",
       "dtype: int64"
      ]
     },
     "execution_count": 101,
     "metadata": {},
     "output_type": "execute_result"
    }
   ],
   "source": [
    "top_25 = new_hotel_data.sum(axis=0).sort_values(ascending=False)[:25]\n",
    "top_25"
   ]
  },
  {
   "cell_type": "markdown",
   "id": "75ee8f13",
   "metadata": {},
   "source": [
    "# PLOTTING"
   ]
  },
  {
   "cell_type": "code",
   "execution_count": 102,
   "id": "12b5b58b",
   "metadata": {},
   "outputs": [
    {
     "data": {
      "image/png": "[encoded data removed]",
      "text/plain": [
       "<Figure size 640x480 with 1 Axes>"
      ]
     },
     "metadata": {},
     "output_type": "display_data"
    }
   ],
   "source": [
    "top_25=new_hotel_data.sum(axis=0).sort_values(ascending=False)[:25]\n",
    "\n",
    "sns.barplot(x=top_25.index, y=top_25.values)\n",
    "plt.xticks(rotation=90)\n",
    "\n",
    "plt.show()"
   ]
  },
  {
   "cell_type": "markdown",
   "id": "f4c093a2",
   "metadata": {},
   "source": [
    "# WORD CLOUD"
   ]
  },
  {
   "cell_type": "code",
   "execution_count": 103,
   "id": "0aa4b0ea",
   "metadata": {},
   "outputs": [
    {
     "name": "stdout",
     "output_type": "stream",
     "text": [
      "Requirement already satisfied: wordcloud in c:\\users\\ogunr\\anaconda3\\lib\\site-packages (1.8.2.2)\n",
      "Requirement already satisfied: pillow in c:\\users\\ogunr\\anaconda3\\lib\\site-packages (from wordcloud) (9.2.0)\n",
      "Requirement already satisfied: matplotlib in c:\\users\\ogunr\\anaconda3\\lib\\site-packages (from wordcloud) (3.5.2)\n",
      "Requirement already satisfied: numpy>=1.6.1 in c:\\users\\ogunr\\anaconda3\\lib\\site-packages (from wordcloud) (1.21.5)\n",
      "Requirement already satisfied: cycler>=0.10 in c:\\users\\ogunr\\anaconda3\\lib\\site-packages (from matplotlib->wordcloud) (0.11.0)\n",
      "Requirement already satisfied: kiwisolver>=1.0.1 in c:\\users\\ogunr\\anaconda3\\lib\\site-packages (from matplotlib->wordcloud) (1.4.2)\n",
      "Requirement already satisfied: packaging>=20.0 in c:\\users\\ogunr\\anaconda3\\lib\\site-packages (from matplotlib->wordcloud) (21.3)\n",
      "Requirement already satisfied: pyparsing>=2.2.1 in c:\\users\\ogunr\\anaconda3\\lib\\site-packages (from matplotlib->wordcloud) (3.0.9)\n",
      "Requirement already satisfied: python-dateutil>=2.7 in c:\\users\\ogunr\\anaconda3\\lib\\site-packages (from matplotlib->wordcloud) (2.8.2)\n",
      "Requirement already satisfied: fonttools>=4.22.0 in c:\\users\\ogunr\\anaconda3\\lib\\site-packages (from matplotlib->wordcloud) (4.25.0)\n",
      "Requirement already satisfied: six>=1.5 in c:\\users\\ogunr\\anaconda3\\lib\\site-packages (from python-dateutil>=2.7->matplotlib->wordcloud) (1.16.0)\n"
     ]
    }
   ],
   "source": [
    "!pip install wordcloud"
   ]
  },
  {
   "cell_type": "code",
   "execution_count": 104,
   "id": "853481c1",
   "metadata": {},
   "outputs": [],
   "source": [
    "from wordcloud import WordCloud, ImageColorGenerator"
   ]
  },
  {
   "cell_type": "code",
   "execution_count": 105,
   "id": "d4269289",
   "metadata": {},
   "outputs": [],
   "source": [
    "from PIL import Image"
   ]
  },
  {
   "cell_type": "code",
   "execution_count": 106,
   "id": "a5da5b3f",
   "metadata": {},
   "outputs": [],
   "source": [
    "text=' '.join(text for text in preferred_30_hotels.Review_cleaned)"
   ]
  },
  {
   "cell_type": "code",
   "execution_count": 107,
   "id": "594b9250",
   "metadata": {},
   "outputs": [],
   "source": [
    "def plot_cloud(word_cloud):\n",
    "    \n",
    "    plt.figure(figsize=(15,9))\n",
    "    plt.imshow(word_cloud, interpolation='bilinear')\n",
    "    plt.axis('off')\n",
    "    plt.show()"
   ]
  },
  {
   "cell_type": "code",
   "execution_count": 108,
   "id": "079da0a1",
   "metadata": {},
   "outputs": [
    {
     "data": {
      "image/png": "[encoded data removed]",
      "text/plain": [
       "<Figure size 1500x900 with 1 Axes>"
      ]
     },
     "metadata": {},
     "output_type": "display_data"
    }
   ],
   "source": [
    "words=np.array(Image.open('image.jpeg'))\n",
    "wc=WordCloud(background_color='white', \n",
    "             colormap='Dark2', random_state=0, collocations=True, mask=words).generate(text)\n",
    "plot_cloud(wc)"
   ]
  },
  {
   "cell_type": "markdown",
   "id": "c5b0858a",
   "metadata": {},
   "source": [
    "# SENTIMENT CLASSIFICATION AND ANALYSIS"
   ]
  },
  {
   "cell_type": "markdown",
   "id": "36b0aa8e",
   "metadata": {},
   "source": [
    "Tells whether a comment is either positive or negative "
   ]
  },
  {
   "cell_type": "code",
   "execution_count": 110,
   "id": "4bb2c4d1",
   "metadata": {},
   "outputs": [
    {
     "name": "stdout",
     "output_type": "stream",
     "text": [
      "Requirement already satisfied: textblob in c:\\users\\ogunr\\anaconda3\\lib\\site-packages (0.17.1)\n",
      "Requirement already satisfied: nltk>=3.1 in c:\\users\\ogunr\\anaconda3\\lib\\site-packages (from textblob) (3.7)\n",
      "Requirement already satisfied: regex>=2021.8.3 in c:\\users\\ogunr\\anaconda3\\lib\\site-packages (from nltk>=3.1->textblob) (2022.7.9)\n",
      "Requirement already satisfied: tqdm in c:\\users\\ogunr\\anaconda3\\lib\\site-packages (from nltk>=3.1->textblob) (4.64.1)\n",
      "Requirement already satisfied: click in c:\\users\\ogunr\\anaconda3\\lib\\site-packages (from nltk>=3.1->textblob) (8.0.4)\n",
      "Requirement already satisfied: joblib in c:\\users\\ogunr\\anaconda3\\lib\\site-packages (from nltk>=3.1->textblob) (1.1.0)\n",
      "Requirement already satisfied: colorama in c:\\users\\ogunr\\anaconda3\\lib\\site-packages (from click->nltk>=3.1->textblob) (0.4.5)\n",
      "Note: you may need to restart the kernel to use updated packages.\n"
     ]
    }
   ],
   "source": [
    "pip install textblob"
   ]
  },
  {
   "cell_type": "code",
   "execution_count": 111,
   "id": "07be561a",
   "metadata": {},
   "outputs": [],
   "source": [
    "from textblob import TextBlob"
   ]
  },
  {
   "cell_type": "markdown",
   "id": "39e9d9d4",
   "metadata": {},
   "source": [
    "Example"
   ]
  },
  {
   "cell_type": "code",
   "execution_count": 112,
   "id": "2b9be0ce",
   "metadata": {},
   "outputs": [
    {
     "data": {
      "text/plain": [
       "Sentiment(polarity=-0.8, subjectivity=0.9)"
      ]
     },
     "execution_count": 112,
     "metadata": {},
     "output_type": "execute_result"
    }
   ],
   "source": [
    "TextBlob('I hate icecream').sentiment"
   ]
  },
  {
   "cell_type": "markdown",
   "id": "5d6382dd",
   "metadata": {},
   "source": [
    "The above results polarity and subjectivity\n",
    "\n",
    "\n",
    "The polarity is a value that is between negative 1 and positive 1. If the value is close to 1, then it is positive. If the value is close to negative 1, then it is negative.\n",
    "\n",
    "Subjectivity shows whether it is general or personal opinion"
   ]
  },
  {
   "cell_type": "code",
   "execution_count": 113,
   "id": "534bd0bb",
   "metadata": {},
   "outputs": [],
   "source": [
    "polarity= lambda review: TextBlob(review).sentiment.polarity\n",
    "subjectivity= lambda review: TextBlob(review).sentiment.subjectivity"
   ]
  },
  {
   "cell_type": "markdown",
   "id": "c4090f93",
   "metadata": {},
   "source": [
    "# POLARITY SCORES"
   ]
  },
  {
   "cell_type": "code",
   "execution_count": 114,
   "id": "786e4029",
   "metadata": {},
   "outputs": [
    {
     "data": {
      "text/plain": [
       "0       0.202500\n",
       "1       0.214286\n",
       "2       0.814286\n",
       "3       0.134375\n",
       "4       0.000000\n",
       "          ...   \n",
       "2925    0.250000\n",
       "2926    0.283333\n",
       "2927    0.225000\n",
       "2928    0.522727\n",
       "2929    0.082500\n",
       "Name: Review_cleaned, Length: 2930, dtype: float64"
      ]
     },
     "execution_count": 114,
     "metadata": {},
     "output_type": "execute_result"
    }
   ],
   "source": [
    "preferred_30_hotels.loc[:, 'Review_cleaned'].apply(polarity)"
   ]
  },
  {
   "cell_type": "markdown",
   "id": "774e0460",
   "metadata": {},
   "source": [
    "# SUBJECTIVITY SCORES"
   ]
  },
  {
   "cell_type": "code",
   "execution_count": 115,
   "id": "6da726fa",
   "metadata": {},
   "outputs": [
    {
     "data": {
      "text/plain": [
       "0       0.520000\n",
       "1       0.571429\n",
       "2       0.892857\n",
       "3       0.575000\n",
       "4       0.000000\n",
       "          ...   \n",
       "2925    0.450000\n",
       "2926    0.800000\n",
       "2927    0.666667\n",
       "2928    0.789815\n",
       "2929    0.560000\n",
       "Name: Review_cleaned, Length: 2930, dtype: float64"
      ]
     },
     "execution_count": 115,
     "metadata": {},
     "output_type": "execute_result"
    }
   ],
   "source": [
    "preferred_30_hotels.loc[:, 'Review_cleaned'].apply(subjectivity)"
   ]
  },
  {
   "cell_type": "markdown",
   "id": "4f281bc9",
   "metadata": {},
   "source": [
    "# PUT TOGETHER ON A TABLE"
   ]
  },
  {
   "cell_type": "code",
   "execution_count": 116,
   "id": "3d45fb8b",
   "metadata": {},
   "outputs": [],
   "source": [
    "preferred_30_hotels.loc[:, 'polarity']=preferred_30_hotels.loc[:, 'Review_cleaned'].apply(polarity)\n",
    "preferred_30_hotels.loc[:, 'subjectivity']=preferred_30_hotels.loc[:, 'Review_cleaned'].apply(subjectivity)"
   ]
  },
  {
   "cell_type": "code",
   "execution_count": 117,
   "id": "31c2d247",
   "metadata": {},
   "outputs": [
    {
     "data": {
      "text/html": [
       "<div>\n",
       "<style scoped>\n",
       "    .dataframe tbody tr th:only-of-type {\n",
       "        vertical-align: middle;\n",
       "    }\n",
       "\n",
       "    .dataframe tbody tr th {\n",
       "        vertical-align: top;\n",
       "    }\n",
       "\n",
       "    .dataframe thead th {\n",
       "        text-align: right;\n",
       "    }\n",
       "</style>\n",
       "<table border=\"1\" class=\"dataframe\">\n",
       "  <thead>\n",
       "    <tr style=\"text-align: right;\">\n",
       "      <th></th>\n",
       "      <th>Hotel/Restaurant name</th>\n",
       "      <th>Review</th>\n",
       "      <th>Review_cleaned</th>\n",
       "      <th>polarity</th>\n",
       "      <th>subjectivity</th>\n",
       "    </tr>\n",
       "  </thead>\n",
       "  <tbody>\n",
       "    <tr>\n",
       "      <th>0</th>\n",
       "      <td>Restaurant Royale Nam Tok</td>\n",
       "      <td>We were astonished to have found this little g...</td>\n",
       "      <td>astonish find little gem restaurant middle lit...</td>\n",
       "      <td>0.202500</td>\n",
       "      <td>0.520000</td>\n",
       "    </tr>\n",
       "    <tr>\n",
       "      <th>1</th>\n",
       "      <td>Restaurant Royale Nam Tok</td>\n",
       "      <td>Please no0te that this restaurant doesnt take ...</td>\n",
       "      <td>te restaurant do not walk in don t tacky peopl...</td>\n",
       "      <td>0.214286</td>\n",
       "      <td>0.571429</td>\n",
       "    </tr>\n",
       "    <tr>\n",
       "      <th>2</th>\n",
       "      <td>Restaurant Royale Nam Tok</td>\n",
       "      <td>Had the perfect dinner in regal surroundings l...</td>\n",
       "      <td>perfect dinner regal surrounding night royale ...</td>\n",
       "      <td>0.814286</td>\n",
       "      <td>0.892857</td>\n",
       "    </tr>\n",
       "    <tr>\n",
       "      <th>3</th>\n",
       "      <td>Restaurant Royale Nam Tok</td>\n",
       "      <td>This restaurant is a hidden gem. Its takes a l...</td>\n",
       "      <td>restaurant hide gem take little bit snoop kath...</td>\n",
       "      <td>0.134375</td>\n",
       "      <td>0.575000</td>\n",
       "    </tr>\n",
       "    <tr>\n",
       "      <th>4</th>\n",
       "      <td>Restaurant Royale Nam Tok</td>\n",
       "      <td>AAA+++ Bond Rating!! I have business interests...</td>\n",
       "      <td>aaa bond rating business interest home span co...</td>\n",
       "      <td>0.000000</td>\n",
       "      <td>0.000000</td>\n",
       "    </tr>\n",
       "  </tbody>\n",
       "</table>\n",
       "</div>"
      ],
      "text/plain": [
       "       Hotel/Restaurant name  \\\n",
       "0  Restaurant Royale Nam Tok   \n",
       "1  Restaurant Royale Nam Tok   \n",
       "2  Restaurant Royale Nam Tok   \n",
       "3  Restaurant Royale Nam Tok   \n",
       "4  Restaurant Royale Nam Tok   \n",
       "\n",
       "                                              Review  \\\n",
       "0  We were astonished to have found this little g...   \n",
       "1  Please no0te that this restaurant doesnt take ...   \n",
       "2  Had the perfect dinner in regal surroundings l...   \n",
       "3  This restaurant is a hidden gem. Its takes a l...   \n",
       "4  AAA+++ Bond Rating!! I have business interests...   \n",
       "\n",
       "                                      Review_cleaned  polarity  subjectivity  \n",
       "0  astonish find little gem restaurant middle lit...  0.202500      0.520000  \n",
       "1  te restaurant do not walk in don t tacky peopl...  0.214286      0.571429  \n",
       "2  perfect dinner regal surrounding night royale ...  0.814286      0.892857  \n",
       "3  restaurant hide gem take little bit snoop kath...  0.134375      0.575000  \n",
       "4  aaa bond rating business interest home span co...  0.000000      0.000000  "
      ]
     },
     "execution_count": 117,
     "metadata": {},
     "output_type": "execute_result"
    }
   ],
   "source": [
    "preferred_30_hotels.head()"
   ]
  },
  {
   "cell_type": "code",
   "execution_count": 118,
   "id": "afef9b45",
   "metadata": {},
   "outputs": [
    {
     "data": {
      "text/html": [
       "<div>\n",
       "<style scoped>\n",
       "    .dataframe tbody tr th:only-of-type {\n",
       "        vertical-align: middle;\n",
       "    }\n",
       "\n",
       "    .dataframe tbody tr th {\n",
       "        vertical-align: top;\n",
       "    }\n",
       "\n",
       "    .dataframe thead th {\n",
       "        text-align: right;\n",
       "    }\n",
       "</style>\n",
       "<table border=\"1\" class=\"dataframe\">\n",
       "  <thead>\n",
       "    <tr style=\"text-align: right;\">\n",
       "      <th></th>\n",
       "      <th>Hotel/Restaurant name</th>\n",
       "      <th>Review</th>\n",
       "      <th>Review_cleaned</th>\n",
       "      <th>polarity</th>\n",
       "      <th>subjectivity</th>\n",
       "    </tr>\n",
       "  </thead>\n",
       "  <tbody>\n",
       "    <tr>\n",
       "      <th>2925</th>\n",
       "      <td>Divino Tapas Restaurant</td>\n",
       "      <td>We only ordered off the Thai menu and with fus...</td>\n",
       "      <td>order thai menu fussy kid allow order pizza fr...</td>\n",
       "      <td>0.250000</td>\n",
       "      <td>0.450000</td>\n",
       "    </tr>\n",
       "    <tr>\n",
       "      <th>2926</th>\n",
       "      <td>Divino Tapas Restaurant</td>\n",
       "      <td>Divino is one of our favorite places in Phuket...</td>\n",
       "      <td>divino favorite place phuket robert khun busab...</td>\n",
       "      <td>0.283333</td>\n",
       "      <td>0.800000</td>\n",
       "    </tr>\n",
       "    <tr>\n",
       "      <th>2927</th>\n",
       "      <td>Divino Tapas Restaurant</td>\n",
       "      <td>Meet Robert during our dinner at his other bra...</td>\n",
       "      <td>meet robert dinner branch albatross cafe locat...</td>\n",
       "      <td>0.225000</td>\n",
       "      <td>0.666667</td>\n",
       "    </tr>\n",
       "    <tr>\n",
       "      <th>2928</th>\n",
       "      <td>Divino Tapas Restaurant</td>\n",
       "      <td>My husband and I arrived in late at night and ...</td>\n",
       "      <td>husband arrive late night pleasure meeting own...</td>\n",
       "      <td>0.522727</td>\n",
       "      <td>0.789815</td>\n",
       "    </tr>\n",
       "    <tr>\n",
       "      <th>2929</th>\n",
       "      <td>Divino Tapas Restaurant</td>\n",
       "      <td>We were the only table in the restaurant but d...</td>\n",
       "      <td>table restaurant despite service little shaky ...</td>\n",
       "      <td>0.082500</td>\n",
       "      <td>0.560000</td>\n",
       "    </tr>\n",
       "  </tbody>\n",
       "</table>\n",
       "</div>"
      ],
      "text/plain": [
       "        Hotel/Restaurant name  \\\n",
       "2925  Divino Tapas Restaurant   \n",
       "2926  Divino Tapas Restaurant   \n",
       "2927  Divino Tapas Restaurant   \n",
       "2928  Divino Tapas Restaurant   \n",
       "2929  Divino Tapas Restaurant   \n",
       "\n",
       "                                                 Review  \\\n",
       "2925  We only ordered off the Thai menu and with fus...   \n",
       "2926  Divino is one of our favorite places in Phuket...   \n",
       "2927  Meet Robert during our dinner at his other bra...   \n",
       "2928  My husband and I arrived in late at night and ...   \n",
       "2929  We were the only table in the restaurant but d...   \n",
       "\n",
       "                                         Review_cleaned  polarity  \\\n",
       "2925  order thai menu fussy kid allow order pizza fr...  0.250000   \n",
       "2926  divino favorite place phuket robert khun busab...  0.283333   \n",
       "2927  meet robert dinner branch albatross cafe locat...  0.225000   \n",
       "2928  husband arrive late night pleasure meeting own...  0.522727   \n",
       "2929  table restaurant despite service little shaky ...  0.082500   \n",
       "\n",
       "      subjectivity  \n",
       "2925      0.450000  \n",
       "2926      0.800000  \n",
       "2927      0.666667  \n",
       "2928      0.789815  \n",
       "2929      0.560000  "
      ]
     },
     "execution_count": 118,
     "metadata": {},
     "output_type": "execute_result"
    }
   ],
   "source": [
    "preferred_30_hotels.tail()"
   ]
  },
  {
   "cell_type": "markdown",
   "id": "eef19ee4",
   "metadata": {},
   "source": [
    "# CLASSIFICATION OF SENTIMENTS - POSITIVE, NEGATIVE AND NEUTRAL"
   ]
  },
  {
   "cell_type": "code",
   "execution_count": 65,
   "id": "72cc9f66",
   "metadata": {},
   "outputs": [],
   "source": [
    "import numpy as np"
   ]
  },
  {
   "cell_type": "code",
   "execution_count": 66,
   "id": "848fa91d",
   "metadata": {},
   "outputs": [],
   "source": [
    "preferred_30_hotels['Classification'] = 'Neutral'\n",
    "\n",
    "preferred_30_hotels['Classification'] = np.where(preferred_30_hotels['polarity'] >= 0.05, 'positive', preferred_30_hotels['Classification'])\n",
    "preferred_30_hotels['Classification'] = np.where(preferred_30_hotels['polarity'] <= -0.05, 'negative', preferred_30_hotels['Classification'])"
   ]
  },
  {
   "cell_type": "code",
   "execution_count": 67,
   "id": "95804e79",
   "metadata": {},
   "outputs": [
    {
     "data": {
      "text/html": [
       "<div>\n",
       "<style scoped>\n",
       "    .dataframe tbody tr th:only-of-type {\n",
       "        vertical-align: middle;\n",
       "    }\n",
       "\n",
       "    .dataframe tbody tr th {\n",
       "        vertical-align: top;\n",
       "    }\n",
       "\n",
       "    .dataframe thead th {\n",
       "        text-align: right;\n",
       "    }\n",
       "</style>\n",
       "<table border=\"1\" class=\"dataframe\">\n",
       "  <thead>\n",
       "    <tr style=\"text-align: right;\">\n",
       "      <th></th>\n",
       "      <th>Hotel/Restaurant name</th>\n",
       "      <th>Review</th>\n",
       "      <th>Review_cleaned</th>\n",
       "      <th>polarity</th>\n",
       "      <th>subjectivity</th>\n",
       "      <th>Classification</th>\n",
       "    </tr>\n",
       "  </thead>\n",
       "  <tbody>\n",
       "    <tr>\n",
       "      <th>0</th>\n",
       "      <td>Restaurant Royale Nam Tok</td>\n",
       "      <td>We were astonished to have found this little g...</td>\n",
       "      <td>astonish find little gem restaurant middle lit...</td>\n",
       "      <td>0.202500</td>\n",
       "      <td>0.520000</td>\n",
       "      <td>positive</td>\n",
       "    </tr>\n",
       "    <tr>\n",
       "      <th>1</th>\n",
       "      <td>Restaurant Royale Nam Tok</td>\n",
       "      <td>Please no0te that this restaurant doesnt take ...</td>\n",
       "      <td>te restaurant do not walk in don t tacky peopl...</td>\n",
       "      <td>0.214286</td>\n",
       "      <td>0.571429</td>\n",
       "      <td>positive</td>\n",
       "    </tr>\n",
       "    <tr>\n",
       "      <th>2</th>\n",
       "      <td>Restaurant Royale Nam Tok</td>\n",
       "      <td>Had the perfect dinner in regal surroundings l...</td>\n",
       "      <td>perfect dinner regal surrounding night royale ...</td>\n",
       "      <td>0.814286</td>\n",
       "      <td>0.892857</td>\n",
       "      <td>positive</td>\n",
       "    </tr>\n",
       "    <tr>\n",
       "      <th>3</th>\n",
       "      <td>Restaurant Royale Nam Tok</td>\n",
       "      <td>This restaurant is a hidden gem. Its takes a l...</td>\n",
       "      <td>restaurant hide gem take little bit snoop kath...</td>\n",
       "      <td>0.134375</td>\n",
       "      <td>0.575000</td>\n",
       "      <td>positive</td>\n",
       "    </tr>\n",
       "    <tr>\n",
       "      <th>4</th>\n",
       "      <td>Restaurant Royale Nam Tok</td>\n",
       "      <td>AAA+++ Bond Rating!! I have business interests...</td>\n",
       "      <td>aaa bond rating business interest home span co...</td>\n",
       "      <td>0.000000</td>\n",
       "      <td>0.000000</td>\n",
       "      <td>Neutral</td>\n",
       "    </tr>\n",
       "  </tbody>\n",
       "</table>\n",
       "</div>"
      ],
      "text/plain": [
       "       Hotel/Restaurant name  \\\n",
       "0  Restaurant Royale Nam Tok   \n",
       "1  Restaurant Royale Nam Tok   \n",
       "2  Restaurant Royale Nam Tok   \n",
       "3  Restaurant Royale Nam Tok   \n",
       "4  Restaurant Royale Nam Tok   \n",
       "\n",
       "                                              Review  \\\n",
       "0  We were astonished to have found this little g...   \n",
       "1  Please no0te that this restaurant doesnt take ...   \n",
       "2  Had the perfect dinner in regal surroundings l...   \n",
       "3  This restaurant is a hidden gem. Its takes a l...   \n",
       "4  AAA+++ Bond Rating!! I have business interests...   \n",
       "\n",
       "                                      Review_cleaned  polarity  subjectivity  \\\n",
       "0  astonish find little gem restaurant middle lit...  0.202500      0.520000   \n",
       "1  te restaurant do not walk in don t tacky peopl...  0.214286      0.571429   \n",
       "2  perfect dinner regal surrounding night royale ...  0.814286      0.892857   \n",
       "3  restaurant hide gem take little bit snoop kath...  0.134375      0.575000   \n",
       "4  aaa bond rating business interest home span co...  0.000000      0.000000   \n",
       "\n",
       "  Classification  \n",
       "0       positive  \n",
       "1       positive  \n",
       "2       positive  \n",
       "3       positive  \n",
       "4        Neutral  "
      ]
     },
     "execution_count": 67,
     "metadata": {},
     "output_type": "execute_result"
    }
   ],
   "source": [
    "preferred_30_hotels.head()"
   ]
  },
  {
   "cell_type": "code",
   "execution_count": 68,
   "id": "a4cd0e9a",
   "metadata": {},
   "outputs": [
    {
     "data": {
      "text/html": [
       "<div>\n",
       "<style scoped>\n",
       "    .dataframe tbody tr th:only-of-type {\n",
       "        vertical-align: middle;\n",
       "    }\n",
       "\n",
       "    .dataframe tbody tr th {\n",
       "        vertical-align: top;\n",
       "    }\n",
       "\n",
       "    .dataframe thead th {\n",
       "        text-align: right;\n",
       "    }\n",
       "</style>\n",
       "<table border=\"1\" class=\"dataframe\">\n",
       "  <thead>\n",
       "    <tr style=\"text-align: right;\">\n",
       "      <th></th>\n",
       "      <th>Hotel/Restaurant name</th>\n",
       "      <th>Review</th>\n",
       "      <th>Review_cleaned</th>\n",
       "      <th>polarity</th>\n",
       "      <th>subjectivity</th>\n",
       "      <th>Classification</th>\n",
       "    </tr>\n",
       "  </thead>\n",
       "  <tbody>\n",
       "    <tr>\n",
       "      <th>2925</th>\n",
       "      <td>Divino Tapas Restaurant</td>\n",
       "      <td>We only ordered off the Thai menu and with fus...</td>\n",
       "      <td>order thai menu fussy kid allow order pizza fr...</td>\n",
       "      <td>0.250000</td>\n",
       "      <td>0.450000</td>\n",
       "      <td>positive</td>\n",
       "    </tr>\n",
       "    <tr>\n",
       "      <th>2926</th>\n",
       "      <td>Divino Tapas Restaurant</td>\n",
       "      <td>Divino is one of our favorite places in Phuket...</td>\n",
       "      <td>divino favorite place phuket robert khun busab...</td>\n",
       "      <td>0.283333</td>\n",
       "      <td>0.800000</td>\n",
       "      <td>positive</td>\n",
       "    </tr>\n",
       "    <tr>\n",
       "      <th>2927</th>\n",
       "      <td>Divino Tapas Restaurant</td>\n",
       "      <td>Meet Robert during our dinner at his other bra...</td>\n",
       "      <td>meet robert dinner branch albatross cafe locat...</td>\n",
       "      <td>0.225000</td>\n",
       "      <td>0.666667</td>\n",
       "      <td>positive</td>\n",
       "    </tr>\n",
       "    <tr>\n",
       "      <th>2928</th>\n",
       "      <td>Divino Tapas Restaurant</td>\n",
       "      <td>My husband and I arrived in late at night and ...</td>\n",
       "      <td>husband arrive late night pleasure meeting own...</td>\n",
       "      <td>0.522727</td>\n",
       "      <td>0.789815</td>\n",
       "      <td>positive</td>\n",
       "    </tr>\n",
       "    <tr>\n",
       "      <th>2929</th>\n",
       "      <td>Divino Tapas Restaurant</td>\n",
       "      <td>We were the only table in the restaurant but d...</td>\n",
       "      <td>table restaurant despite service little shaky ...</td>\n",
       "      <td>0.082500</td>\n",
       "      <td>0.560000</td>\n",
       "      <td>positive</td>\n",
       "    </tr>\n",
       "  </tbody>\n",
       "</table>\n",
       "</div>"
      ],
      "text/plain": [
       "        Hotel/Restaurant name  \\\n",
       "2925  Divino Tapas Restaurant   \n",
       "2926  Divino Tapas Restaurant   \n",
       "2927  Divino Tapas Restaurant   \n",
       "2928  Divino Tapas Restaurant   \n",
       "2929  Divino Tapas Restaurant   \n",
       "\n",
       "                                                 Review  \\\n",
       "2925  We only ordered off the Thai menu and with fus...   \n",
       "2926  Divino is one of our favorite places in Phuket...   \n",
       "2927  Meet Robert during our dinner at his other bra...   \n",
       "2928  My husband and I arrived in late at night and ...   \n",
       "2929  We were the only table in the restaurant but d...   \n",
       "\n",
       "                                         Review_cleaned  polarity  \\\n",
       "2925  order thai menu fussy kid allow order pizza fr...  0.250000   \n",
       "2926  divino favorite place phuket robert khun busab...  0.283333   \n",
       "2927  meet robert dinner branch albatross cafe locat...  0.225000   \n",
       "2928  husband arrive late night pleasure meeting own...  0.522727   \n",
       "2929  table restaurant despite service little shaky ...  0.082500   \n",
       "\n",
       "      subjectivity Classification  \n",
       "2925      0.450000       positive  \n",
       "2926      0.800000       positive  \n",
       "2927      0.666667       positive  \n",
       "2928      0.789815       positive  \n",
       "2929      0.560000       positive  "
      ]
     },
     "execution_count": 68,
     "metadata": {},
     "output_type": "execute_result"
    }
   ],
   "source": [
    "preferred_30_hotels.tail()"
   ]
  },
  {
   "cell_type": "markdown",
   "id": "bab5f7a4",
   "metadata": {},
   "source": [
    "### Count sentiment classification of each reviews"
   ]
  },
  {
   "cell_type": "code",
   "execution_count": 69,
   "id": "a6f82e2b",
   "metadata": {},
   "outputs": [
    {
     "data": {
      "text/plain": [
       "positive    2596\n",
       "negative     174\n",
       "Neutral      160\n",
       "Name: Classification, dtype: int64"
      ]
     },
     "execution_count": 69,
     "metadata": {},
     "output_type": "execute_result"
    }
   ],
   "source": [
    "preferred_30_hotels.Classification.value_counts()"
   ]
  },
  {
   "cell_type": "markdown",
   "id": "c6638f47",
   "metadata": {},
   "source": [
    "#### Percentage count of reviews"
   ]
  },
  {
   "cell_type": "code",
   "execution_count": 70,
   "id": "f74b8e59",
   "metadata": {},
   "outputs": [
    {
     "data": {
      "text/plain": [
       "positive    0.886007\n",
       "negative    0.059386\n",
       "Neutral     0.054608\n",
       "Name: Classification, dtype: float64"
      ]
     },
     "execution_count": 70,
     "metadata": {},
     "output_type": "execute_result"
    }
   ],
   "source": [
    "preferred_30_hotels.Classification.value_counts(normalize=True)"
   ]
  },
  {
   "cell_type": "code",
   "execution_count": 77,
   "id": "e7923de3",
   "metadata": {},
   "outputs": [
    {
     "data": {
      "text/plain": [
       "<AxesSubplot:>"
      ]
     },
     "execution_count": 77,
     "metadata": {},
     "output_type": "execute_result"
    },
    {
     "data": {
      "image/png": "[encoded data removed]",
      "text/plain": [
       "<Figure size 640x480 with 1 Axes>"
      ]
     },
     "metadata": {},
     "output_type": "display_data"
    }
   ],
   "source": [
    "preferred_30_hotels.Classification.value_counts(normalize=True).plot(kind='bar')"
   ]
  },
  {
   "cell_type": "code",
   "execution_count": null,
   "id": "fd00bc7f",
   "metadata": {},
   "outputs": [],
   "source": []
  }
 ],
 "metadata": {
  "kernelspec": {
   "display_name": "Python 3 (ipykernel)",
   "language": "python",
   "name": "python3"
  },
  "language_info": {
   "codemirror_mode": {
    "name": "ipython",
    "version": 3
   },
   "file_extension": ".py",
   "mimetype": "text/x-python",
   "name": "python",
   "nbconvert_exporter": "python",
   "pygments_lexer": "ipython3",
   "version": "3.9.13"
  }
 },
 "nbformat": 4,
 "nbformat_minor": 5
}
